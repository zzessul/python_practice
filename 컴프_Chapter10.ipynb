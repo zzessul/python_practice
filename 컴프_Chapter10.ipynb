{
  "nbformat": 4,
  "nbformat_minor": 0,
  "metadata": {
    "colab": {
      "provenance": [],
      "authorship_tag": "ABX9TyOvLNTfZawCjhO0DAwNppRp",
      "include_colab_link": true
    },
    "kernelspec": {
      "name": "python3",
      "display_name": "Python 3"
    },
    "language_info": {
      "name": "python"
    }
  },
  "cells": [
    {
      "cell_type": "markdown",
      "metadata": {
        "id": "view-in-github",
        "colab_type": "text"
      },
      "source": [
        "<a href=\"https://colab.research.google.com/github/zzessul/python/blob/main/%EC%BB%B4%ED%94%84_Chapter10.ipynb\" target=\"_parent\"><img src=\"https://colab.research.google.com/assets/colab-badge.svg\" alt=\"Open In Colab\"/></a>"
      ]
    },
    {
      "cell_type": "code",
      "execution_count": null,
      "metadata": {
        "colab": {
          "base_uri": "https://localhost:8080/"
        },
        "id": "fJEfz5-5ge5k",
        "outputId": "04e67476-11e2-4934-b236-61f7b911f336"
      },
      "outputs": [
        {
          "output_type": "stream",
          "name": "stdout",
          "text": [
            "200 - 100 = 100\n"
          ]
        }
      ],
      "source": [
        "#LAB 10-1-(1)\n",
        "def sub(x,y):\n",
        "    return x-y\n",
        "\n",
        "print('200 - 100 =', sub(200,100))"
      ]
    },
    {
      "cell_type": "code",
      "source": [
        "#LAB 10-1-(2)\n",
        "sub = lambda x,y: x-y\n",
        "print('200 - 100 =', sub(200,100))"
      ],
      "metadata": {
        "colab": {
          "base_uri": "https://localhost:8080/"
        },
        "id": "qKPsMO5Ii5o_",
        "outputId": "caaa8f65-e8f0-4061-bd3c-65e5136d1a79"
      },
      "execution_count": null,
      "outputs": [
        {
          "output_type": "stream",
          "name": "stdout",
          "text": [
            "200 - 100 = 100\n"
          ]
        }
      ]
    },
    {
      "cell_type": "code",
      "source": [
        "#LAB 10-2-(1)\n",
        "n_list = [1, 2, 3, 4, 5, 6, 7, 8, 9, 10]\n",
        "\n",
        "even_list = []\n",
        "for i in n_list:\n",
        "    if i%2==0:\n",
        "        even_list.append(i)\n",
        "print(\"even_list =\", even_list)\n",
        "\n",
        "even_list = list(filter(lambda x: x%2==0, n_list))\n",
        "print(\"even_list =\", even_list)"
      ],
      "metadata": {
        "id": "ZkfEGTT0jEeT",
        "colab": {
          "base_uri": "https://localhost:8080/"
        },
        "outputId": "f921a995-4476-461f-9581-87e55dfb6e1d"
      },
      "execution_count": null,
      "outputs": [
        {
          "output_type": "stream",
          "name": "stdout",
          "text": [
            "even_list = [2, 4, 6, 8, 10]\n",
            "even_list = [2, 4, 6, 8, 10]\n"
          ]
        }
      ]
    },
    {
      "cell_type": "code",
      "source": [
        "#LAB 10-2-(2)\n",
        "n_list = [1, 2, 3, 4, 5, 6, 7, 8, 9, 10]\n",
        "\n",
        "odd_list = []\n",
        "for i in n_list:\n",
        "    if i%2==1:\n",
        "        odd_list.append(i)\n",
        "print(\"odd_list =\", odd_list)\n",
        "\n",
        "odd_list = list(filter(lambda x: x%2==1, n_list))\n",
        "print(\"odd_list =\", odd_list)"
      ],
      "metadata": {
        "colab": {
          "base_uri": "https://localhost:8080/"
        },
        "id": "ERuYu5Qe_AWu",
        "outputId": "74f9760b-01ab-4385-af24-3e84fed476ae"
      },
      "execution_count": null,
      "outputs": [
        {
          "output_type": "stream",
          "name": "stdout",
          "text": [
            "odd_list = [1, 3, 5, 7, 9]\n",
            "odd_list = [1, 3, 5, 7, 9]\n"
          ]
        }
      ]
    },
    {
      "cell_type": "code",
      "source": [
        "#LAB 10-3-(1)\n",
        "def to_upper(x):\n",
        "    return x.upper()\n",
        "\n",
        "a_list = ['a', 'b', 'c', 'd']\n",
        "upper_a_list = list(map(to_upper, a_list))\n",
        "print(\"upper_a_list =\", upper_a_list)\n",
        "\n",
        "upper_a_list = list(map(lambda x: x.upper(), a_list))\n",
        "print(\"upper_a_list =\", upper_a_list)"
      ],
      "metadata": {
        "colab": {
          "base_uri": "https://localhost:8080/"
        },
        "id": "Ctn-7A1y_Q4g",
        "outputId": "79f356c9-38f5-491d-b2eb-9b030b2730e3"
      },
      "execution_count": null,
      "outputs": [
        {
          "output_type": "stream",
          "name": "stdout",
          "text": [
            "upper_a_list = ['A', 'B', 'C', 'D']\n",
            "upper_a_list = ['A', 'B', 'C', 'D']\n"
          ]
        }
      ]
    },
    {
      "cell_type": "code",
      "source": [
        "#LAB 10-3-(2)\n",
        "n_list = [10, 20, 30]\n",
        "\n",
        "def twice(x):\n",
        "  return x*2\n",
        "\n",
        "def triple(x):\n",
        "  return x*3\n",
        "\n",
        "twice_n_list = list(map(twice, n_list))\n",
        "triple_n_list = list(map(triple, n_list))\n",
        "print(\"입력 값의 두 배 :\", twice_n_list)\n",
        "print(\"입력 값의 세 배 :\", triple_n_list)\n",
        "\n",
        "twice_n_list = list(map(lambda x: x*2, n_list))\n",
        "triple_n_list = list(map(lambda x: x*3, n_list))\n",
        "print(\"입력 값의 두 배 :\", twice_n_list)\n",
        "print(\"입력 값의 세 배 :\", triple_n_list)\n"
      ],
      "metadata": {
        "colab": {
          "base_uri": "https://localhost:8080/"
        },
        "id": "wNSeZcBNCt1m",
        "outputId": "c83cfcbd-214d-4f3e-dd5e-e3541867a9e8"
      },
      "execution_count": null,
      "outputs": [
        {
          "output_type": "stream",
          "name": "stdout",
          "text": [
            "입력 값의 두 배 : [20, 40, 60]\n",
            "입력 값의 세 배 : [30, 60, 90]\n",
            "입력 값의 두 배 : [20, 40, 60]\n",
            "입력 값의 세 배 : [30, 60, 90]\n"
          ]
        }
      ]
    },
    {
      "cell_type": "code",
      "source": [
        "#LAB 10-4-(1), (2)\n",
        "from functools import reduce\n",
        "\n",
        "n = reduce(lambda x, y: x + y, range(1, 101))\n",
        "print(\"1에서 100까지의 합 :\", n)\n",
        "\n",
        "m = reduce(lambda x, y: x * y, range(1, 11))\n",
        "print(\"10! :\", m)"
      ],
      "metadata": {
        "colab": {
          "base_uri": "https://localhost:8080/"
        },
        "id": "oqx1gUxnGdaM",
        "outputId": "4aa4afe3-fdbb-42c8-f3d1-ed5f3a65d2a8"
      },
      "execution_count": null,
      "outputs": [
        {
          "output_type": "stream",
          "name": "stdout",
          "text": [
            "1에서 100까지의 합 : 5050\n",
            "10! : 3628800\n"
          ]
        }
      ]
    },
    {
      "cell_type": "code",
      "source": [
        "#LAB 10-5-(1)\n",
        "cubic = [i**3 for i in range(1, 11)]\n",
        "print(\"cubic =\", cubic)"
      ],
      "metadata": {
        "colab": {
          "base_uri": "https://localhost:8080/"
        },
        "id": "-LVzJd5aI-P5",
        "outputId": "77b5d413-856a-46b2-8917-c51ddcf3b7a3"
      },
      "execution_count": null,
      "outputs": [
        {
          "output_type": "stream",
          "name": "stdout",
          "text": [
            "cubic = [1, 8, 27, 64, 125, 216, 343, 512, 729, 1000]\n"
          ]
        }
      ]
    },
    {
      "cell_type": "code",
      "source": [
        "#LAB 10-5-(2)\n",
        "a = ['welcome', 'to', 'the', 'python', 'world']\n",
        "first_a = [i[0] for i in a]\n",
        "\n",
        "print(\"a =\", a)\n",
        "print(\"first_a =\", first_a)"
      ],
      "metadata": {
        "colab": {
          "base_uri": "https://localhost:8080/"
        },
        "id": "uRFOazogKDjw",
        "outputId": "c0974c20-3824-4a96-d287-4fb816463eb6"
      },
      "execution_count": null,
      "outputs": [
        {
          "output_type": "stream",
          "name": "stdout",
          "text": [
            "a = ['welcome', 'to', 'the', 'python', 'world']\n",
            "first_a = ['w', 't', 't', 'p', 'w']\n"
          ]
        }
      ]
    },
    {
      "cell_type": "code",
      "source": [
        "#LAB 10-6-(1)\n",
        "cubic = [i**3 for i in range(1, 11) if i**3 <= 500]\n",
        "print(\"cubic =\", cubic)"
      ],
      "metadata": {
        "colab": {
          "base_uri": "https://localhost:8080/"
        },
        "id": "Vt7bDnV0O7kj",
        "outputId": "442d90a2-7c3d-40f1-e027-028471977804"
      },
      "execution_count": null,
      "outputs": [
        {
          "output_type": "stream",
          "name": "stdout",
          "text": [
            "cubic = [1, 8, 27, 64, 125, 216, 343]\n"
          ]
        }
      ]
    },
    {
      "cell_type": "code",
      "source": [
        "#LAB 10-6-(2)\n",
        "st = 'Hello 1234 Python'\n",
        "num = [i for i in st if i.isdigit()]\n",
        "print(num)"
      ],
      "metadata": {
        "colab": {
          "base_uri": "https://localhost:8080/"
        },
        "id": "NfW-7rn2PcaG",
        "outputId": "2759f8df-a926-4283-dfef-30a916ef772f"
      },
      "execution_count": null,
      "outputs": [
        {
          "output_type": "stream",
          "name": "stdout",
          "text": [
            "['1', '2', '3', '4']\n"
          ]
        }
      ]
    },
    {
      "cell_type": "code",
      "source": [
        "#LAB 10-8-(1)\n",
        "txt = 'Welcome to Busan Metropolitan City.'\n",
        "txt.split()"
      ],
      "metadata": {
        "colab": {
          "base_uri": "https://localhost:8080/"
        },
        "id": "ue4fdFOjR38f",
        "outputId": "5d25e081-df76-4118-da35-19ebaf84f54f"
      },
      "execution_count": null,
      "outputs": [
        {
          "output_type": "execute_result",
          "data": {
            "text/plain": [
              "['Welcome', 'to', 'Busan', 'Metropolitan', 'City.']"
            ]
          },
          "metadata": {},
          "execution_count": 14
        }
      ]
    },
    {
      "cell_type": "code",
      "source": [
        "#LAB 10-8-(2)\n",
        "greet = 'Hello,My name is DongMin,Good to see you again'\n",
        "greet.split(',')"
      ],
      "metadata": {
        "colab": {
          "base_uri": "https://localhost:8080/"
        },
        "id": "JhrLKcntTToh",
        "outputId": "668e341e-f031-469b-d427-efd23eae11eb"
      },
      "execution_count": null,
      "outputs": [
        {
          "output_type": "execute_result",
          "data": {
            "text/plain": [
              "['Hello', 'My name is DongMin', 'Good to see you again']"
            ]
          },
          "metadata": {},
          "execution_count": 15
        }
      ]
    },
    {
      "cell_type": "code",
      "source": [
        "#LAB 10-8-(3)\n",
        "fruits = 'Apple|Banana|Melon|Orange'\n",
        "fruits = fruits.split('|')\n",
        "print(fruits)"
      ],
      "metadata": {
        "colab": {
          "base_uri": "https://localhost:8080/"
        },
        "id": "1sXyR9cITuY8",
        "outputId": "f57bc7fd-b49a-4a48-84b5-07603fc47535"
      },
      "execution_count": null,
      "outputs": [
        {
          "output_type": "stream",
          "name": "stdout",
          "text": [
            "['Apple', 'Banana', 'Melon', 'Orange']\n"
          ]
        }
      ]
    },
    {
      "cell_type": "code",
      "source": [
        "#연습문제 10.1-(1)\n",
        "f1 = lambda x : x * x\n",
        "type(f1)"
      ],
      "metadata": {
        "colab": {
          "base_uri": "https://localhost:8080/"
        },
        "id": "-ngLnyMaWTUl",
        "outputId": "64d2c9d5-590f-441f-9388-2add7e042f7b"
      },
      "execution_count": null,
      "outputs": [
        {
          "output_type": "execute_result",
          "data": {
            "text/plain": [
              "function"
            ]
          },
          "metadata": {},
          "execution_count": 20
        }
      ]
    },
    {
      "cell_type": "code",
      "source": [
        "#연습문제 10.1-(2)\n",
        "def f2(x):\n",
        "    return x * x\n",
        "type(f2)"
      ],
      "metadata": {
        "colab": {
          "base_uri": "https://localhost:8080/"
        },
        "id": "pwOIBxPEWrkb",
        "outputId": "4971eac1-1642-4a0c-f9c1-1561f4bffd8a"
      },
      "execution_count": null,
      "outputs": [
        {
          "output_type": "execute_result",
          "data": {
            "text/plain": [
              "function"
            ]
          },
          "metadata": {},
          "execution_count": 21
        }
      ]
    },
    {
      "cell_type": "code",
      "source": [
        "#연습문제 10.2\n",
        "f = lambda x, y: (z := 100, x + y + z)[1]\n",
        "f(10, 20)"
      ],
      "metadata": {
        "colab": {
          "base_uri": "https://localhost:8080/"
        },
        "id": "-Fzfk-5DW5B5",
        "outputId": "7742ab59-806b-40ab-f2ff-d7d72385416e"
      },
      "execution_count": null,
      "outputs": [
        {
          "output_type": "execute_result",
          "data": {
            "text/plain": [
              "130"
            ]
          },
          "metadata": {},
          "execution_count": 27
        }
      ]
    },
    {
      "cell_type": "code",
      "source": [
        "#연습문제 10.3-(1)\n",
        "persons = [('GilDong', 'Hong', 27), ('SunSin', 'Lee', 46), ('YuSin', 'Gim', 34)]\n",
        "sorted(persons, key = lambda info: info[1])"
      ],
      "metadata": {
        "colab": {
          "base_uri": "https://localhost:8080/"
        },
        "id": "TkrJgWjhbGt1",
        "outputId": "21788689-c23a-42f8-af98-717147478249"
      },
      "execution_count": null,
      "outputs": [
        {
          "output_type": "execute_result",
          "data": {
            "text/plain": [
              "[('YuSin', 'Gim', 34), ('GilDong', 'Hong', 27), ('SunSin', 'Lee', 46)]"
            ]
          },
          "metadata": {},
          "execution_count": 28
        }
      ]
    },
    {
      "cell_type": "code",
      "source": [
        "#연습문제 10.3-(2)\n",
        "persons = [('GilDong', 'Hong', 27), ('SunSin', 'Lee', 46), ('YuSin', 'Gim', 34)]\n",
        "sorted(persons, key = lambda info: -info[2])"
      ],
      "metadata": {
        "colab": {
          "base_uri": "https://localhost:8080/"
        },
        "id": "zIVKKgDdbziT",
        "outputId": "e80d460c-0174-4c9d-ece3-9c79554ab989"
      },
      "execution_count": null,
      "outputs": [
        {
          "output_type": "execute_result",
          "data": {
            "text/plain": [
              "[('SunSin', 'Lee', 46), ('YuSin', 'Gim', 34), ('GilDong', 'Hong', 27)]"
            ]
          },
          "metadata": {},
          "execution_count": 34
        }
      ]
    },
    {
      "cell_type": "code",
      "source": [
        "#연습문제 10.4-(1)\n",
        "lyrics = 'Half of my heart is in Havana'.split()\n",
        "\n",
        "for\n"
      ],
      "metadata": {
        "id": "3j1vBtqXdfxz"
      },
      "execution_count": null,
      "outputs": []
    }
  ]
}