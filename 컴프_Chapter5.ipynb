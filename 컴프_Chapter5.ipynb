{
  "nbformat": 4,
  "nbformat_minor": 0,
  "metadata": {
    "colab": {
      "provenance": [],
      "authorship_tag": "ABX9TyPE3ouRJ9mx75hFB1vUQypn",
      "include_colab_link": true
    },
    "kernelspec": {
      "name": "python3",
      "display_name": "Python 3"
    },
    "language_info": {
      "name": "python"
    }
  },
  "cells": [
    {
      "cell_type": "markdown",
      "metadata": {
        "id": "view-in-github",
        "colab_type": "text"
      },
      "source": [
        "<a href=\"https://colab.research.google.com/github/zzessul/python/blob/main/%EC%BB%B4%ED%94%84_Chapter5.ipynb\" target=\"_parent\"><img src=\"https://colab.research.google.com/assets/colab-badge.svg\" alt=\"Open In Colab\"/></a>"
      ]
    },
    {
      "cell_type": "code",
      "source": [
        "#LAB 5-1-(1)\n",
        "even_list = list((2, 4, 6, 8, 10))\n",
        "print(\"even_list =\", even_list)"
      ],
      "metadata": {
        "colab": {
          "base_uri": "https://localhost:8080/"
        },
        "id": "I0i9mhqAC9wC",
        "outputId": "baa0418f-4b95-4376-9f75-32043d091558"
      },
      "execution_count": null,
      "outputs": [
        {
          "output_type": "stream",
          "name": "stdout",
          "text": [
            "even_list = [2, 4, 6, 8, 10]\n"
          ]
        }
      ]
    },
    {
      "cell_type": "code",
      "execution_count": null,
      "metadata": {
        "colab": {
          "base_uri": "https://localhost:8080/"
        },
        "id": "BNZKpxc-CMkJ",
        "outputId": "4318e400-90c0-40b7-e74c-829f7b7afe93"
      },
      "outputs": [
        {
          "output_type": "stream",
          "name": "stdout",
          "text": [
            "even_list = [2, 4, 6, 8, 10]\n"
          ]
        }
      ],
      "source": [
        "#LAB 5-1-(2)\n",
        "even_list = list(range(2, 11, 2))\n",
        "print(\"even_list =\", even_list)"
      ]
    },
    {
      "cell_type": "code",
      "source": [
        "#LAB 5-1-(3)\n",
        "nations = ['Korea', 'China', 'India', 'Nepal']\n",
        "print(\"nations =\", nations)"
      ],
      "metadata": {
        "colab": {
          "base_uri": "https://localhost:8080/"
        },
        "id": "wL_MDEP8Dm_c",
        "outputId": "82d45b06-d7d9-4366-80ac-5326bf4ededd"
      },
      "execution_count": null,
      "outputs": [
        {
          "output_type": "stream",
          "name": "stdout",
          "text": [
            "nations = ['Korea', 'China', 'India', 'Nepal']\n"
          ]
        }
      ]
    },
    {
      "cell_type": "code",
      "source": [
        "#LAB 5-1-(4)\n",
        "friends = ['길동', '철수', '은지', '지은', '영민']\n",
        "print(\"friends =\", friends)"
      ],
      "metadata": {
        "colab": {
          "base_uri": "https://localhost:8080/"
        },
        "id": "7WuY62BcEEPx",
        "outputId": "7c2fcd86-ae09-4a3e-ecc4-d139c2f72ae1"
      },
      "execution_count": null,
      "outputs": [
        {
          "output_type": "stream",
          "name": "stdout",
          "text": [
            "friends = ['길동', '철수', '은지', '지은', '영민']\n"
          ]
        }
      ]
    },
    {
      "cell_type": "code",
      "source": [
        "#LAB 5-1-(5)\n",
        "s = 'XYZ'\n",
        "string = []\n",
        "for i in s:\n",
        "    string.append(i)\n",
        "\n",
        "print(\"string =\", string)"
      ],
      "metadata": {
        "colab": {
          "base_uri": "https://localhost:8080/"
        },
        "id": "vMKRBT8REajp",
        "outputId": "87e8df39-dc8f-4fbb-a078-56a6935bcb90"
      },
      "execution_count": null,
      "outputs": [
        {
          "output_type": "stream",
          "name": "stdout",
          "text": [
            "string = ['X', 'Y', 'Z']\n"
          ]
        }
      ]
    },
    {
      "cell_type": "code",
      "source": [
        "#LAB 5-2-(1), (2), (3)\n",
        "prime_list = [2, 3, 5, 7]\n",
        "print(f\"prime_list의 첫 원소 : {prime_list[0]}\")\n",
        "print(f\"prime_list의 마지막 원소 : {prime_list[3]}\")\n",
        "print(f\"prime_list의 마지막 원소 : {prime_list[-1]}\")"
      ],
      "metadata": {
        "colab": {
          "base_uri": "https://localhost:8080/"
        },
        "id": "0uT1VOlnHGW-",
        "outputId": "e0c4700c-b843-42f5-a8ea-183668d5e4f2"
      },
      "execution_count": null,
      "outputs": [
        {
          "output_type": "stream",
          "name": "stdout",
          "text": [
            "prime_list의 첫 원소 : 2\n",
            "prime_list의 마지막 원소 : 7\n",
            "prime_list의 마지막 원소 : 7\n"
          ]
        }
      ]
    },
    {
      "cell_type": "code",
      "source": [
        "#LAB 5-2-(4)\n",
        "nations = ['Korea', 'China', 'Russia', 'Malaysia']\n",
        "print(f\"nations의 첫 원소 : {nations[0]}\")\n",
        "print(f\"nations의 마지막 원소 : {nations[-1]}\")\n",
        "print(f\"nations의 마지막 원소 : {nations[len(nations)-1]}\")"
      ],
      "metadata": {
        "colab": {
          "base_uri": "https://localhost:8080/"
        },
        "id": "HBvk-ss8HXx6",
        "outputId": "f8f0ef8b-9c42-4aa3-a29e-e9bedf304ff6"
      },
      "execution_count": null,
      "outputs": [
        {
          "output_type": "stream",
          "name": "stdout",
          "text": [
            "nations의 첫 원소 : Korea\n",
            "nations의 마지막 원소 : Malaysia\n",
            "nations의 마지막 원소 : Malaysia\n"
          ]
        }
      ]
    },
    {
      "cell_type": "code",
      "source": [
        "#LAB 5-3-(1), (2)\n",
        "prime_list = [2, 3, 5, 7]\n",
        "print(\"소수 목록 :\", prime_list)\n",
        "prime_list.append(11)\n",
        "print(\"추가 후 소수 목록 :\", prime_list)\n",
        "\n",
        "print(\"삭제 전 소수 목록 : \", prime_list)\n",
        "prime_list.remove(3)\n",
        "print(\"삭제 후 소수 목록 : \", prime_list)"
      ],
      "metadata": {
        "colab": {
          "base_uri": "https://localhost:8080/"
        },
        "id": "zTY5CmN7IzIq",
        "outputId": "e6314571-29f2-49bb-94ca-d6db4af36d70"
      },
      "execution_count": null,
      "outputs": [
        {
          "output_type": "stream",
          "name": "stdout",
          "text": [
            "소수 목록 : [2, 3, 5, 7]\n",
            "추가 후 소수 목록 : [2, 3, 5, 7, 11]\n",
            "삭제 전 소수 목록 :  [2, 3, 5, 7, 11]\n",
            "삭제 후 소수 목록 :  [2, 5, 7, 11]\n"
          ]
        }
      ]
    },
    {
      "cell_type": "code",
      "source": [
        "#LAB 5-3-(3), (4)\n",
        "nations = ['Korea', 'China', 'Russia', 'Malaysia']\n",
        "print(\"국가 목록 :\", nations)\n",
        "nations.append('Nepal')\n",
        "print(\"추가 후 국가 목록 :\", nations)\n",
        "\n",
        "if 'Japan' in nations:\n",
        "    print(\"Japan 는(은) 국가 목록에 있습니다.\")\n",
        "else:\n",
        "    print(\"Japan 는(은) 국가 목록에 없습니다.\")\n",
        "\n",
        "if 'Russia' in nations:\n",
        "    print(\"Russia 는(은) 국가 목록에 있습니다.\")\n",
        "else:\n",
        "    print(\"Russia 는(은) 국가 목록에 없습니다.\")"
      ],
      "metadata": {
        "colab": {
          "base_uri": "https://localhost:8080/"
        },
        "id": "YvT2WWG0NzZa",
        "outputId": "db192325-3422-4d51-e5f8-19bfca95dcf5"
      },
      "execution_count": null,
      "outputs": [
        {
          "output_type": "stream",
          "name": "stdout",
          "text": [
            "국가 목록 : ['Korea', 'China', 'Russia', 'Malaysia']\n",
            "추가 후 국가 목록 : ['Korea', 'China', 'Russia', 'Malaysia', 'Nepal']\n",
            "Japan 는(은) 국가 목록에 없습니다.\n",
            "Russia 는(은) 국가 목록에 있습니다.\n"
          ]
        }
      ]
    },
    {
      "cell_type": "code",
      "source": [
        "#LAB 5-4-(1)\n",
        "prime_list = [2, 3, 5, 7]\n",
        "print(\"1에서 10까지의 소수 :\", prime_list)\n",
        "print(f\"최솟값 : {min(prime_list)}\")\n",
        "print(f\"최댓값 : {max(prime_list)}\")\n",
        "print(f\"합계 : {sum(prime_list)}\")\n",
        "print(f\"평균 : {sum(prime_list)/len(prime_list)}\")"
      ],
      "metadata": {
        "colab": {
          "base_uri": "https://localhost:8080/"
        },
        "id": "SOqA7Un2PlDC",
        "outputId": "5a9d22e1-d357-4a2e-c4fc-e50e37143325"
      },
      "execution_count": null,
      "outputs": [
        {
          "output_type": "stream",
          "name": "stdout",
          "text": [
            "1에서 10까지의 소수 : [2, 3, 5, 7]\n",
            "최솟값 : 2\n",
            "최댓값 : 7\n",
            "합계 : 17\n",
            "평균 : 4.25\n"
          ]
        }
      ]
    },
    {
      "cell_type": "code",
      "source": [
        "#LAB 5-4-(2)\n",
        "nations = ['Korea', 'China', 'Russia', 'Malaysia']\n",
        "print(\"국가 목록 :\", nations)\n",
        "print(f\"사전에 가장 먼저 나오는 나라 : {min(nations)}\")\n",
        "print(f\"사전에 가장 뒤에 나오는 나라 : {max(nations)}\")"
      ],
      "metadata": {
        "colab": {
          "base_uri": "https://localhost:8080/"
        },
        "id": "vOqbD7OfQB5u",
        "outputId": "76abd00a-6d45-43d2-8e35-70594bd5807c"
      },
      "execution_count": null,
      "outputs": [
        {
          "output_type": "stream",
          "name": "stdout",
          "text": [
            "국가 목록 : ['Korea', 'China', 'Russia', 'Malaysia']\n",
            "사전에 가장 먼저 나오는 나라 : China\n",
            "사전에 가장 뒤에 나오는 나라 : Russia\n"
          ]
        }
      ]
    },
    {
      "cell_type": "code",
      "source": [
        "#LAB 5-5-(1)\n",
        "a1 = [1, 2, 3]\n",
        "b1 = [10, 20, 30]\n",
        "a1.append(b1)\n",
        "print(a1)\n",
        "\n",
        "a2 = [1, 2, 3]\n",
        "b2 = [10, 20, 30]\n",
        "a2.extend(b2)\n",
        "print(a2)"
      ],
      "metadata": {
        "colab": {
          "base_uri": "https://localhost:8080/"
        },
        "id": "1P12lo7iQVw2",
        "outputId": "614dec4d-2576-43b7-bf55-9902c9daf572"
      },
      "execution_count": null,
      "outputs": [
        {
          "output_type": "stream",
          "name": "stdout",
          "text": [
            "[1, 2, 3, [10, 20, 30]]\n",
            "[1, 2, 3, 10, 20, 30]\n"
          ]
        }
      ]
    },
    {
      "cell_type": "code",
      "source": [
        "#LAB 5-5-(2), (3), (4), (5)\n",
        "nlist = [1, 2, 3, 4, 5, 6, 7, 8, 9, 10]\n",
        "print(\"nlist =\", nlist)\n",
        "\n",
        "nlist.insert(0, 0)\n",
        "print(\"nlist =\", nlist)\n",
        "\n",
        "nlist.reverse()\n",
        "print(\"nlist =\", nlist)\n",
        "\n",
        "print(f\"마지막 원소 = {nlist.pop()}\")\n",
        "print(\"nlist =\", nlist)"
      ],
      "metadata": {
        "colab": {
          "base_uri": "https://localhost:8080/"
        },
        "id": "gtsvVbSlb_uE",
        "outputId": "c17c2cdd-0b1f-4df2-ec8b-9e5e901b3634"
      },
      "execution_count": null,
      "outputs": [
        {
          "output_type": "stream",
          "name": "stdout",
          "text": [
            "nlist = [1, 2, 3, 4, 5, 6, 7, 8, 9, 10]\n",
            "nlist = [0, 1, 2, 3, 4, 5, 6, 7, 8, 9, 10]\n",
            "nlist = [10, 9, 8, 7, 6, 5, 4, 3, 2, 1, 0]\n",
            "마지막 원소 = 0\n",
            "nlist = [10, 9, 8, 7, 6, 5, 4, 3, 2, 1]\n"
          ]
        }
      ]
    },
    {
      "cell_type": "code",
      "source": [
        "#LAB 5-6-(1)\n",
        "n = int(input(\"반복할 정수를 입력하시오 : \"))\n",
        "\n",
        "lst = [1, 2, 3]\n",
        "print(lst * n)"
      ],
      "metadata": {
        "colab": {
          "base_uri": "https://localhost:8080/"
        },
        "id": "f1Omyg1Acy06",
        "outputId": "538760c7-d75d-4d6f-e26d-a9856272c5ba"
      },
      "execution_count": null,
      "outputs": [
        {
          "output_type": "stream",
          "name": "stdout",
          "text": [
            "반복할 정수를 입력하시오 : 4\n",
            "[1, 2, 3, 1, 2, 3, 1, 2, 3, 1, 2, 3]\n"
          ]
        }
      ]
    },
    {
      "cell_type": "code",
      "source": [
        "#LAB 5-7-(1), (2)\n",
        "n_list = []\n",
        "for i in range(15):\n",
        "    n_list.append(i)\n",
        "print(\"n_list =\", n_list)\n",
        "\n",
        "print(\"s_list1 =\", n_list[0:5])\n",
        "print(\"s_list2 =\", n_list[5:11])\n",
        "print(\"s_list3 =\", n_list[11:15])\n",
        "print(\"s_list4 =\", n_list[2:11:2])\n",
        "print(\"s_list5 =\", n_list[10:5:-1])\n",
        "print(\"s_list6 =\", n_list[10:1:-2])"
      ],
      "metadata": {
        "colab": {
          "base_uri": "https://localhost:8080/"
        },
        "id": "xwcFA4EZegF8",
        "outputId": "6691c289-38df-4687-dfa4-75e53c0a42a4"
      },
      "execution_count": null,
      "outputs": [
        {
          "output_type": "stream",
          "name": "stdout",
          "text": [
            "n_list = [0, 1, 2, 3, 4, 5, 6, 7, 8, 9, 10, 11, 12, 13, 14]\n",
            "s_list1 = [0, 1, 2, 3, 4]\n",
            "s_list2 = [5, 6, 7, 8, 9, 10]\n",
            "s_list3 = [11, 12, 13, 14]\n",
            "s_list4 = [2, 4, 6, 8, 10]\n",
            "s_list5 = [10, 9, 8, 7, 6]\n",
            "s_list6 = [10, 8, 6, 4, 2]\n"
          ]
        }
      ]
    },
    {
      "cell_type": "code",
      "source": [
        "#연습문제 5.1\n",
        "list_ex = [10, 20, 30, 40, 50, 60, 70]\n",
        "high = 5\n",
        "low = 3\n",
        "\n",
        "print(list_ex[low])\n",
        "print(list_ex[low + 2])\n",
        "print(list_ex[high - low])\n",
        "print(list_ex[low - high])\n",
        "print(list_ex[-1])\n",
        "print(list_ex[-low])\n",
        "print(list_ex[2 * 3])\n",
        "print(list_ex[2] * 3)\n",
        "print(list_ex[5 % 4])\n",
        "print(len(list_ex))"
      ],
      "metadata": {
        "colab": {
          "base_uri": "https://localhost:8080/"
        },
        "id": "EU3KVNFajn5Y",
        "outputId": "76427b7b-1dc5-42e7-d26a-d4234a925cd0"
      },
      "execution_count": null,
      "outputs": [
        {
          "output_type": "stream",
          "name": "stdout",
          "text": [
            "40\n",
            "60\n",
            "30\n",
            "60\n",
            "70\n",
            "50\n",
            "70\n",
            "90\n",
            "20\n",
            "7\n"
          ]
        }
      ]
    },
    {
      "cell_type": "code",
      "source": [
        "#연습문제 5.2\n",
        "spell = ['s', 'w', 'e', 'e', 't']\n",
        "print(spell)\n",
        "\n",
        "spell[3] = 'a'\n",
        "print(spell)\n",
        "\n",
        "spell[4] = 'r'\n",
        "print(spell)\n",
        "\n",
        "print(spell *2)"
      ],
      "metadata": {
        "colab": {
          "base_uri": "https://localhost:8080/"
        },
        "id": "i1zLUT5tmAqx",
        "outputId": "ef981b17-d647-4856-c2f7-3b52b4c7ebd3"
      },
      "execution_count": null,
      "outputs": [
        {
          "output_type": "stream",
          "name": "stdout",
          "text": [
            "['s', 'w', 'e', 'e', 't']\n",
            "['s', 'w', 'e', 'a', 't']\n",
            "['s', 'w', 'e', 'a', 'r']\n",
            "['s', 'w', 'e', 'a', 'r', 's', 'w', 'e', 'a', 'r']\n"
          ]
        }
      ]
    },
    {
      "cell_type": "code",
      "source": [
        "#연습문제 5.3\n",
        "list1 = [3, 5, 7]\n",
        "list2 = [2, 3, 4, 5, 6]\n",
        "\n",
        "for i in list1:\n",
        "  for j in list2:\n",
        "    print(f\"{i} * {j} = {i * j}\")"
      ],
      "metadata": {
        "colab": {
          "base_uri": "https://localhost:8080/"
        },
        "id": "_smvTqIymVil",
        "outputId": "0b333bc7-4c21-4a18-a58b-c2dbd09da29d"
      },
      "execution_count": null,
      "outputs": [
        {
          "output_type": "stream",
          "name": "stdout",
          "text": [
            "3 * 2 = 6\n",
            "3 * 3 = 9\n",
            "3 * 4 = 12\n",
            "3 * 5 = 15\n",
            "3 * 6 = 18\n",
            "5 * 2 = 10\n",
            "5 * 3 = 15\n",
            "5 * 4 = 20\n",
            "5 * 5 = 25\n",
            "5 * 6 = 30\n",
            "7 * 2 = 14\n",
            "7 * 3 = 21\n",
            "7 * 4 = 28\n",
            "7 * 5 = 35\n",
            "7 * 6 = 42\n"
          ]
        }
      ]
    },
    {
      "cell_type": "code",
      "source": [
        "#연습문제 5.4\n",
        "a = [2, 3, 4, 5, 6]\n",
        "print(\"a =\", a)\n",
        "\n",
        "rev_a = []\n",
        "for i in range(len(a)):\n",
        "  rev_a.append(a.pop())\n",
        "\n",
        "print(\"rev_a =\", rev_a)"
      ],
      "metadata": {
        "colab": {
          "base_uri": "https://localhost:8080/"
        },
        "id": "x9TW5pOzm2kA",
        "outputId": "50c665a0-ea86-4356-a862-4418eb768578"
      },
      "execution_count": null,
      "outputs": [
        {
          "output_type": "stream",
          "name": "stdout",
          "text": [
            "a = [2, 3, 4, 5, 6]\n",
            "rev_a = [6, 5, 4, 3, 2]\n"
          ]
        }
      ]
    },
    {
      "cell_type": "code",
      "source": [
        "#연습문제 5.5\n",
        "list1 = ['I like', 'I love']\n",
        "list2 = ['pancakes.', 'kiwi juice.', 'espresso.']\n",
        "\n",
        "for i in list1:\n",
        "  for j in list2:\n",
        "    print(i, j)"
      ],
      "metadata": {
        "colab": {
          "base_uri": "https://localhost:8080/"
        },
        "id": "hk9XJSVcnfCF",
        "outputId": "b4a03975-f2c0-4d13-d3a5-0ded8d9c87f2"
      },
      "execution_count": null,
      "outputs": [
        {
          "output_type": "stream",
          "name": "stdout",
          "text": [
            "I like pancakes.\n",
            "I like kiwi juice.\n",
            "I like espresso.\n",
            "I love pancakes.\n",
            "I love kiwi juice.\n",
            "I love espresso.\n"
          ]
        }
      ]
    },
    {
      "cell_type": "code",
      "source": [
        "#연습문제 5.7\n",
        "n_list = [10, 20, 30, 50, 60]\n",
        "sum = 0\n",
        "\n",
        "for i in n_list:\n",
        "  sum += i\n",
        "\n",
        "print(\"리스트 원소들 :\", n_list)\n",
        "print(\"리스트 원소들의 합 :\", sum)"
      ],
      "metadata": {
        "colab": {
          "base_uri": "https://localhost:8080/"
        },
        "id": "_sB2WJAYoJgN",
        "outputId": "716efe26-4ada-43d7-e6cd-b9fbecbc66ce"
      },
      "execution_count": null,
      "outputs": [
        {
          "output_type": "stream",
          "name": "stdout",
          "text": [
            "리스트 원소들 : [10, 20, 30, 50, 60]\n",
            "리스트 원소들의 합 : 170\n"
          ]
        }
      ]
    },
    {
      "cell_type": "code",
      "source": [
        "#연습문제 5.8\n",
        "n_list = [10, 20, 30, 50, 60]\n",
        "multiply = 1\n",
        "\n",
        "for i in n_list:\n",
        "  multiply *= i\n",
        "\n",
        "print(\"리스트 원소들 :\", n_list)\n",
        "print(\"리스트 원소들의 곱 :\", multiply)"
      ],
      "metadata": {
        "colab": {
          "base_uri": "https://localhost:8080/"
        },
        "id": "oz1oNgkDrT_4",
        "outputId": "2d8912f1-c812-4c17-8609-774b37c7dd21"
      },
      "execution_count": null,
      "outputs": [
        {
          "output_type": "stream",
          "name": "stdout",
          "text": [
            "리스트 원소들 : [10, 20, 30, 50, 60]\n",
            "리스트 원소들의 곱 : 18000000\n"
          ]
        }
      ]
    },
    {
      "cell_type": "code",
      "source": [
        "#연습문제 5.9\n",
        "n_list = [10, 20, 30, 50, 60]\n",
        "max = n_list[0]\n",
        "\n",
        "for i in n_list:\n",
        "  if i > max:\n",
        "    max = i\n",
        "\n",
        "print(\"리스트 원소들 :\", n_list)\n",
        "print(\"리스트 원소들 중 최댓값 :\", max)"
      ],
      "metadata": {
        "colab": {
          "base_uri": "https://localhost:8080/"
        },
        "id": "Miw_4dbPsKmi",
        "outputId": "6fd101dc-e10d-4cbe-a1df-2c23f4ff77ea"
      },
      "execution_count": null,
      "outputs": [
        {
          "output_type": "stream",
          "name": "stdout",
          "text": [
            "리스트 원소들 : [10, 20, 30, 50, 60]\n",
            "리스트 원소들 중 최댓값 : 60\n"
          ]
        }
      ]
    },
    {
      "cell_type": "code",
      "source": [
        "#연습문제 5.10\n",
        "n_list = [10, 20, 30, 50, 60]\n",
        "min = n_list[0]\n",
        "\n",
        "for i in n_list:\n",
        "  if i < min:\n",
        "    min = i\n",
        "\n",
        "print(\"리스트 원소들 :\", n_list)\n",
        "print(\"리스트 원소들 중 최솟값 :\", min)"
      ],
      "metadata": {
        "colab": {
          "base_uri": "https://localhost:8080/"
        },
        "id": "YgGc140VsYSp",
        "outputId": "8aa6d560-0f00-4a7e-faad-db9321aa602d"
      },
      "execution_count": null,
      "outputs": [
        {
          "output_type": "stream",
          "name": "stdout",
          "text": [
            "리스트 원소들 : [10, 20, 30, 50, 60]\n",
            "리스트 원소들 중 최솟값 : 10\n"
          ]
        }
      ]
    },
    {
      "cell_type": "code",
      "source": [
        "#연습문제 5.11\n",
        "number = input(\"5개의 수를 입력하세요: \").split()\n",
        "\n",
        "n_list = []\n",
        "for i in number:\n",
        "  i = int(i)\n",
        "  n_list.append(i)\n",
        "\n",
        "print(\"합 :\", sum(n_list))\n",
        "print(\"평균 :\", sum(n_list)/len(n_list))\n",
        "print(\"최댓값:\", max(n_list))\n",
        "print(\"최솟값:\", min(n_list))"
      ],
      "metadata": {
        "colab": {
          "base_uri": "https://localhost:8080/"
        },
        "id": "hmLUOXvzsnBz",
        "outputId": "855660a1-12cf-496c-bb77-de33bbc860aa"
      },
      "execution_count": null,
      "outputs": [
        {
          "output_type": "stream",
          "name": "stdout",
          "text": [
            "5개의 수를 입력하세요: 45 67 20 34 2\n",
            "합 : 168\n",
            "평균 : 33.6\n",
            "최댓값: 67\n",
            "최솟값: 2\n"
          ]
        }
      ]
    },
    {
      "cell_type": "code",
      "source": [
        "#연습문제 5.12\n",
        "n = int(input(\"n을 입력하세요: \"))\n",
        "\n",
        "number = input(f\"{n}개의 수를 입력하세요: \").split()\n",
        "\n",
        "n_list = []\n",
        "for i in number:\n",
        "  i = int(i)\n",
        "  n_list.append(i)\n",
        "\n",
        "print(\"합 :\", sum(n_list))\n",
        "print(\"평균 :\", sum(n_list)/len(n_list))\n",
        "print(\"최댓값:\", max(n_list))\n",
        "print(\"최솟값:\", min(n_list))"
      ],
      "metadata": {
        "colab": {
          "base_uri": "https://localhost:8080/"
        },
        "id": "cda5UXvytSo7",
        "outputId": "7e1608ed-3b77-4f3f-af83-09e602ca71c0"
      },
      "execution_count": null,
      "outputs": [
        {
          "output_type": "stream",
          "name": "stdout",
          "text": [
            "n을 입력하세요: 10\n",
            "10개의 수를 입력하세요: 34 56 7 9 23 10 2 30 3 28\n",
            "합 : 202\n",
            "평균 : 20.2\n",
            "최댓값: 56\n",
            "최솟값: 2\n"
          ]
        }
      ]
    },
    {
      "cell_type": "code",
      "source": [
        "#연습문제 5.13\n",
        "number = input(\"10개의 수를 입력하세요: \").split()\n",
        "\n",
        "n_list = []\n",
        "for i in number:\n",
        "  i = int(i)\n",
        "  n_list.append(i)\n",
        "\n",
        "print(\"합 :\", sum(n_list))\n",
        "print(\"평균 :\", sum(n_list)/len(n_list))\n",
        "print(f\"표준편차 :{(sum([(i - sum(n_list)/len(n_list))**2 for i in n_list])/(len(n_list)))**0.5 : 4.2f}\")"
      ],
      "metadata": {
        "colab": {
          "base_uri": "https://localhost:8080/"
        },
        "id": "p_RjoOv6mrAw",
        "outputId": "3afa2586-2248-4136-f28f-c3f7e442f232"
      },
      "execution_count": null,
      "outputs": [
        {
          "output_type": "stream",
          "name": "stdout",
          "text": [
            "10개의 수를 입력하세요: 45 67 20 34 2 100 23 45 67 89\n",
            "합 : 492\n",
            "평균 : 49.2\n",
            "표준편차 : 29.72\n"
          ]
        }
      ]
    },
    {
      "cell_type": "code",
      "source": [
        "#연습문제 5.16\n",
        "s = 'Birthday'\n",
        "\n",
        "print(s[:5])\n",
        "print(s[5:])\n",
        "print(s[1:-1])\n",
        "print(s[::-1])\n",
        "print('day' in s)\n",
        "print('birth' in s)\n",
        "print('Birth' in s)\n",
        "print('Birth' not in s)"
      ],
      "metadata": {
        "colab": {
          "base_uri": "https://localhost:8080/"
        },
        "id": "-oQSjPPrp5tW",
        "outputId": "d8d97842-e17a-4bed-885e-ca58602d3102"
      },
      "execution_count": null,
      "outputs": [
        {
          "output_type": "stream",
          "name": "stdout",
          "text": [
            "Birth\n",
            "day\n",
            "irthda\n",
            "yadhtriB\n",
            "True\n",
            "False\n",
            "True\n",
            "False\n"
          ]
        }
      ]
    },
    {
      "cell_type": "code",
      "source": [
        "#연습문제 5.17-(1)\n",
        "animals = ['dog', 'cat', 'tiger', 'lion']\n",
        "print(\"animals =\", animals)\n",
        "\n",
        "#연습문제 5.17-(2)\n",
        "animals.remove('dog')\n",
        "animals.append('dog')\n",
        "print(\"animals =\", animals)"
      ],
      "metadata": {
        "colab": {
          "base_uri": "https://localhost:8080/"
        },
        "id": "Fz4SBb2YuAgZ",
        "outputId": "2eeb67aa-f5c6-41e6-9966-882c1562db94"
      },
      "execution_count": null,
      "outputs": [
        {
          "output_type": "stream",
          "name": "stdout",
          "text": [
            "animals = ['dog', 'cat', 'tiger', 'lion']\n",
            "animals = ['cat', 'tiger', 'lion', 'dog']\n"
          ]
        }
      ]
    },
    {
      "cell_type": "code",
      "source": [
        "#연습문제 5.17-(3)\n",
        "animals = ['dog', 'cat', 'tiger', 'lion']\n",
        "print(\"animals =\", animals)\n",
        "\n",
        "for i in animals:\n",
        "  print(f\"I love {i}.\")"
      ],
      "metadata": {
        "colab": {
          "base_uri": "https://localhost:8080/"
        },
        "id": "-OgpGG00wym4",
        "outputId": "112436e7-27bf-470e-9d48-f4811046b405"
      },
      "execution_count": null,
      "outputs": [
        {
          "output_type": "stream",
          "name": "stdout",
          "text": [
            "animals = ['dog', 'cat', 'tiger', 'lion']\n",
            "I love dog.\n",
            "I love cat.\n",
            "I love tiger.\n",
            "I love lion.\n"
          ]
        }
      ]
    },
    {
      "cell_type": "code",
      "source": [
        "#연습문제 5.18-(1), (2)\n",
        "s_list = ['abc', 'bcd', 'bcdefg', 'abba', 'cddc', 'opq']\n",
        "min = s_list[0]\n",
        "max = s_list[0]\n",
        "\n",
        "for i in s_list:\n",
        "  if len(min) > len(i):\n",
        "    min = i\n",
        "\n",
        "for i in s_list:\n",
        "  if len(max) < len(i):\n",
        "    max = i\n",
        "\n",
        "print(\"가장 길이가 짧은 문자열 :\", min)\n",
        "print(\"가장 길이가 긴 문자열 :\", max)"
      ],
      "metadata": {
        "colab": {
          "base_uri": "https://localhost:8080/"
        },
        "id": "ei6X9m5NxSaO",
        "outputId": "a5bbe5d9-0932-42d6-9887-fe5a24fef1f6"
      },
      "execution_count": null,
      "outputs": [
        {
          "output_type": "stream",
          "name": "stdout",
          "text": [
            "가장 길이가 짧은 문자열 : abc\n",
            "가장 길이가 긴 문자열 : bcdefg\n"
          ]
        }
      ]
    },
    {
      "cell_type": "code",
      "source": [
        "#연습문제 5.18-(3)\n",
        "s_list = ['abc', 'bcd', 'bcdefg', 'abba', 'cddc', 'opq']\n",
        "s_list.sort(key=len)\n",
        "min = s_list[0]\n",
        "lst = []\n",
        "\n",
        "for i in s_list:\n",
        "  if len(min) == len(i):\n",
        "    lst.append(i)\n",
        "\n",
        "print(\"가장 길이가 짧은 문자열 : \", end = '')\n",
        "for i in lst[:len(lst)-1]:\n",
        "  print(f\"'{i}'\", end = ', ')\n",
        "print(f\"'{lst[-1]}'\")"
      ],
      "metadata": {
        "colab": {
          "base_uri": "https://localhost:8080/"
        },
        "id": "orLlCV-i04K6",
        "outputId": "966f2bff-f5ce-4585-d9f5-ba606ee02ff6"
      },
      "execution_count": null,
      "outputs": [
        {
          "output_type": "stream",
          "name": "stdout",
          "text": [
            "가장 길이가 짧은 문자열 : 'abc', 'bcd', 'opq'\n"
          ]
        }
      ]
    },
    {
      "cell_type": "code",
      "source": [
        "#연습문제 5.19\n",
        "s_list = ['abc', 'bcd', 'abc', 'abba', 'cddc', 'opq', 'opq']\n",
        "new_s_list = []\n",
        "\n",
        "for i in s_list:\n",
        "  if i not in new_s_list:\n",
        "    new_s_list.append(i)\n",
        "\n",
        "print(\"s_list =\", s_list)\n",
        "print(\"new_s_list =\", new_s_list)"
      ],
      "metadata": {
        "colab": {
          "base_uri": "https://localhost:8080/"
        },
        "id": "ysCMMvAW9axs",
        "outputId": "e3c4339a-29bd-4c45-b065-70755102ee75"
      },
      "execution_count": null,
      "outputs": [
        {
          "output_type": "stream",
          "name": "stdout",
          "text": [
            "s_list = ['abc', 'bcd', 'abc', 'abba', 'cddc', 'opq', 'opq']\n",
            "new_s_list = ['abc', 'bcd', 'abba', 'cddc', 'opq']\n"
          ]
        }
      ]
    },
    {
      "cell_type": "code",
      "source": [
        "#연습문제 5.20"
      ],
      "metadata": {
        "id": "4LLY840AfQm9"
      },
      "execution_count": null,
      "outputs": []
    }
  ]
}