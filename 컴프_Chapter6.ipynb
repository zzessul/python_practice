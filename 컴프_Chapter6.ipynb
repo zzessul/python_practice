{
  "nbformat": 4,
  "nbformat_minor": 0,
  "metadata": {
    "colab": {
      "provenance": [],
      "toc_visible": true,
      "authorship_tag": "ABX9TyMFt8h3LNPGKCpUzc9vVftI",
      "include_colab_link": true
    },
    "kernelspec": {
      "name": "python3",
      "display_name": "Python 3"
    },
    "language_info": {
      "name": "python"
    }
  },
  "cells": [
    {
      "cell_type": "markdown",
      "metadata": {
        "id": "view-in-github",
        "colab_type": "text"
      },
      "source": [
        "<a href=\"https://colab.research.google.com/github/zzessul/python/blob/main/%EC%BB%B4%ED%94%84_Chapter6.ipynb\" target=\"_parent\"><img src=\"https://colab.research.google.com/assets/colab-badge.svg\" alt=\"Open In Colab\"/></a>"
      ]
    },
    {
      "cell_type": "code",
      "execution_count": null,
      "metadata": {
        "id": "TTNLvDHGNJOg",
        "colab": {
          "base_uri": "https://localhost:8080/"
        },
        "outputId": "6cc2668f-d5ce-4ec7-87fb-533e5d436956"
      },
      "outputs": [
        {
          "output_type": "stream",
          "name": "stdout",
          "text": [
            "apple의 가격은 5000원입니다.\n",
            "banana의 가격은 4000원입니다.\n",
            "grape의 가격은 5300원입니다.\n",
            "melon의 가격은 6500원입니다.\n"
          ]
        }
      ],
      "source": [
        "#LAB 6-1-(2)\n",
        "fruits_dic = {'apple' : 5000, 'banana' : 4000, 'grape' : 5300, 'melon' : 6500}\n",
        "\n",
        "for name in fruits_dic:\n",
        "  print(f'{name}의 가격은 {fruits_dic[name]}원입니다.')"
      ]
    },
    {
      "cell_type": "code",
      "source": [
        "#LAB 6-2\n",
        "person = {'이름' : '홍길동', '나이' : 26, '몸무게' : 82}\n",
        "\n",
        "person['특기'] = '분신술'\n",
        "print(person)\n",
        "\n",
        "person['아버지'] = '홍판서'\n",
        "print(person)\n",
        "\n",
        "del person['나이']\n",
        "print(person)"
      ],
      "metadata": {
        "colab": {
          "base_uri": "https://localhost:8080/"
        },
        "id": "j5Mp4dEHcE0-",
        "outputId": "85403c32-5e41-4f1a-f348-d4c1d3c31e6f"
      },
      "execution_count": null,
      "outputs": [
        {
          "output_type": "stream",
          "name": "stdout",
          "text": [
            "{'이름': '홍길동', '나이': 26, '몸무게': 82, '특기': '분신술'}\n",
            "{'이름': '홍길동', '나이': 26, '몸무게': 82, '특기': '분신술', '아버지': '홍판서'}\n",
            "{'이름': '홍길동', '몸무게': 82, '특기': '분신술', '아버지': '홍판서'}\n"
          ]
        }
      ]
    },
    {
      "cell_type": "code",
      "source": [
        "#LAB 6-3-(1)\n",
        "capital_dic = {'Korea' : 'Seoul', 'China' : 'Beijing', 'USA' : 'Washington DC'}\n",
        "\n",
        "print('Korea' in capital_dic)\n",
        "print('China' in capital_dic)\n",
        "print('Indonesia' in capital_dic)\n",
        "print('Beijing' in capital_dic)"
      ],
      "metadata": {
        "colab": {
          "base_uri": "https://localhost:8080/"
        },
        "id": "Att1eJv7e_GH",
        "outputId": "4a59b888-c681-481d-b024-4df157e60afe"
      },
      "execution_count": null,
      "outputs": [
        {
          "output_type": "stream",
          "name": "stdout",
          "text": [
            "True\n",
            "True\n",
            "False\n",
            "False\n"
          ]
        }
      ]
    },
    {
      "cell_type": "code",
      "source": [
        "#LAB 6-4\n",
        "fruits_dic = {'apple' : 6000, 'melon' : 3000, 'banana' : 5000, 'orange' : 7000}\n",
        "\n",
        "print(fruits_dic.keys())\n",
        "print(fruits_dic.values())\n",
        "print(fruits_dic.pop('apple'))\n",
        "print(fruits_dic.clear())"
      ],
      "metadata": {
        "colab": {
          "base_uri": "https://localhost:8080/"
        },
        "id": "FO3nxr7Wi1jI",
        "outputId": "bc343eb5-8a7d-4dac-c8ed-c7f3273455be"
      },
      "execution_count": null,
      "outputs": [
        {
          "output_type": "stream",
          "name": "stdout",
          "text": [
            "dict_keys(['apple', 'melon', 'banana', 'orange'])\n",
            "dict_values([6000, 3000, 5000, 7000])\n",
            "6000\n",
            "None\n"
          ]
        }
      ]
    },
    {
      "cell_type": "code",
      "source": [
        "#LAB 6-5-(1)\n",
        "fruits_dic = {'apple' : 6000, 'melon' : 3000, 'banana' : 5000, 'orange' : 4000}\n",
        "\n",
        "lst = []\n",
        "for fruits in fruits_dic:\n",
        "  lst.append(fruits)\n",
        "\n",
        "print(lst)"
      ],
      "metadata": {
        "colab": {
          "base_uri": "https://localhost:8080/"
        },
        "id": "Ulj_xqxRmPa3",
        "outputId": "d4a4a6b1-2b9d-47ff-e341-90e57f36fa7e"
      },
      "execution_count": null,
      "outputs": [
        {
          "output_type": "stream",
          "name": "stdout",
          "text": [
            "['apple', 'melon', 'banana', 'orange']\n"
          ]
        }
      ]
    },
    {
      "cell_type": "code",
      "source": [
        "#LAB 6-5-(2)\n",
        "fruits_dic = {'apple' : 6000, 'melon' : 3000, 'banana' : 5000, 'orange' : 4000}\n",
        "\n",
        "lst = []\n",
        "for value in fruits_dic.values():\n",
        "  lst.append(value)\n",
        "\n",
        "print(lst)"
      ],
      "metadata": {
        "colab": {
          "base_uri": "https://localhost:8080/"
        },
        "id": "X-jeqiKNqs4n",
        "outputId": "e18fb4a9-7909-4902-c5f7-7a0f3363145a"
      },
      "execution_count": null,
      "outputs": [
        {
          "output_type": "stream",
          "name": "stdout",
          "text": [
            "[6000, 3000, 5000, 4000]\n"
          ]
        }
      ]
    },
    {
      "cell_type": "code",
      "source": [
        "#LAB 6-5-(3)\n",
        "fruits_dic = {'apple' : 6000, 'melon' : 3000, 'banana' : 5000, 'orange' : 4000}\n",
        "\n",
        "print(f'fruits_dic 딕셔너리 항목의 개수 : {len(fruits_dic)}')"
      ],
      "metadata": {
        "colab": {
          "base_uri": "https://localhost:8080/"
        },
        "id": "PIYqMV9HrsWE",
        "outputId": "8cd57452-97ac-457b-f810-6b65eda075cd"
      },
      "execution_count": null,
      "outputs": [
        {
          "output_type": "stream",
          "name": "stdout",
          "text": [
            "fruits_dic 딕셔너리 항목의 개수 : 4\n"
          ]
        }
      ]
    },
    {
      "cell_type": "code",
      "source": [
        "#LAB 6-5-(4)\n",
        "fruits_dic = {'apple' : 6000, 'melon' : 3000, 'banana' : 5000, 'orange' : 4000}\n",
        "\n",
        "if 'apple' in fruits_dic:\n",
        "  print('apple is in fruits_dic.')\n",
        "else:\n",
        "  print('apple is not in fruits_dic.')\n",
        "\n",
        "if 'mango' in fruits_dic:\n",
        "  print('mango is in fruits_dic.')\n",
        "else:\n",
        "  print('mango is not in fruits_dic.')"
      ],
      "metadata": {
        "colab": {
          "base_uri": "https://localhost:8080/"
        },
        "id": "eRRIs0s4sJfo",
        "outputId": "e3260d66-98bc-45e3-8f93-2cb9a12a54c0"
      },
      "execution_count": null,
      "outputs": [
        {
          "output_type": "stream",
          "name": "stdout",
          "text": [
            "apple is in fruits_dic.\n",
            "mango is not in fruits_dic.\n"
          ]
        }
      ]
    },
    {
      "cell_type": "code",
      "source": [
        "#LAB 6-6-(1)\n",
        "the_day = (1919, 3, 1)\n",
        "year, month, day = the_day\n",
        "print(f'{year}년 {month}월 {day}일은 삼일절입니다.')"
      ],
      "metadata": {
        "colab": {
          "base_uri": "https://localhost:8080/"
        },
        "id": "r5s1-im1tYm5",
        "outputId": "c439e630-b863-4e0f-a811-b7a3c4371eea"
      },
      "execution_count": null,
      "outputs": [
        {
          "output_type": "stream",
          "name": "stdout",
          "text": [
            "1919년 3월 1일은 삼일절입니다.\n"
          ]
        }
      ]
    },
    {
      "cell_type": "code",
      "source": [
        "#LAB 6-6-(2)\n",
        "a, b, c = (10, 20, 30)\n",
        "c, b, a = a, b, c\n",
        "print(f'a = {a}\\nb = {b}\\nc = {c}')"
      ],
      "metadata": {
        "colab": {
          "base_uri": "https://localhost:8080/"
        },
        "id": "qrFDC8gewfoP",
        "outputId": "6be065cd-eebb-4852-ab7b-2f22fb9424a2"
      },
      "execution_count": null,
      "outputs": [
        {
          "output_type": "stream",
          "name": "stdout",
          "text": [
            "a = 30\n",
            "b = 20\n",
            "c = 10\n"
          ]
        }
      ]
    },
    {
      "cell_type": "code",
      "source": [
        "#LAB 6-7\n",
        "t_person = ('홍길동', 2019001, 179)\n",
        "f_person = list(t_person)\n",
        "f_person[1] = 2020003\n",
        "t_person = tuple(f_person)\n",
        "print('학번 변동 후 person =', t_person)"
      ],
      "metadata": {
        "colab": {
          "base_uri": "https://localhost:8080/"
        },
        "id": "0X1Ds9djxARz",
        "outputId": "6b7236bc-2fd3-4ce9-9bdb-1a6cb16fe4a2"
      },
      "execution_count": null,
      "outputs": [
        {
          "output_type": "stream",
          "name": "stdout",
          "text": [
            "학번 변동 후 person = ('홍길동', 2020003, 179)\n"
          ]
        }
      ]
    },
    {
      "cell_type": "code",
      "source": [
        "#LAB 6-8-(1)\n",
        "def square(a):\n",
        "  a = a ** 2\n",
        "  return a\n",
        "\n",
        "x = int(input())\n",
        "y = int(input())\n",
        "x_sq = square(x)\n",
        "y_sq = square(y)\n",
        "print(f\"{x} 제곱 = {x_sq}, {y} 제곱 = {y_sq}\")"
      ],
      "metadata": {
        "colab": {
          "base_uri": "https://localhost:8080/"
        },
        "id": "Q83FVDNX2GVx",
        "outputId": "d7a48180-34ee-4019-f6a1-78a3799474c2"
      },
      "execution_count": null,
      "outputs": [
        {
          "output_type": "stream",
          "name": "stdout",
          "text": [
            "10\n",
            "20\n",
            "10 제곱 = 100, 20 제곱 = 400\n"
          ]
        }
      ]
    },
    {
      "cell_type": "code",
      "source": [
        "#LAB 6-8-(2)\n",
        "(10, 20, 30) + (40, 50, 60)"
      ],
      "metadata": {
        "colab": {
          "base_uri": "https://localhost:8080/"
        },
        "id": "YDYyHOQZ52iK",
        "outputId": "e380719c-114c-40a4-b192-4f5cd600478d"
      },
      "execution_count": null,
      "outputs": [
        {
          "output_type": "execute_result",
          "data": {
            "text/plain": [
              "(10, 20, 30, 40, 50, 60)"
            ]
          },
          "metadata": {},
          "execution_count": 29
        }
      ]
    },
    {
      "cell_type": "code",
      "source": [
        "#LAB 6-8-(3)\n",
        "print('Hello ' * 3)\n",
        "print(('Hello ',) * 3)"
      ],
      "metadata": {
        "colab": {
          "base_uri": "https://localhost:8080/"
        },
        "id": "QBrXgURZ4zoq",
        "outputId": "f9cffe7a-8c4e-423c-ff87-1510899c4d14"
      },
      "execution_count": null,
      "outputs": [
        {
          "output_type": "stream",
          "name": "stdout",
          "text": [
            "Hello Hello Hello \n",
            "('Hello ', 'Hello ', 'Hello ')\n"
          ]
        }
      ]
    },
    {
      "cell_type": "code",
      "source": [
        "#LAB 6-9-(1)\n",
        "lst = ['apple', 'mango', 'banana']\n",
        "s1 = set(lst)\n",
        "print(f\"lst = {lst}\")\n",
        "print(f\"s1 = {s1}\")"
      ],
      "metadata": {
        "colab": {
          "base_uri": "https://localhost:8080/"
        },
        "id": "OyRycVoz9LCm",
        "outputId": "82ff4ff6-43f6-4828-90e8-ebf8a6bc8d37"
      },
      "execution_count": null,
      "outputs": [
        {
          "output_type": "stream",
          "name": "stdout",
          "text": [
            "lst = ['apple', 'mango', 'banana']\n",
            "s1 = {'banana', 'apple', 'mango'}\n"
          ]
        }
      ]
    },
    {
      "cell_type": "code",
      "source": [
        "#LAB 6-9-(2)\n",
        "greet = 'Good afternoon'\n",
        "s2 = set(greet)\n",
        "print(\"greet = 'Good afternoon'\")\n",
        "print(f\"s2 = {s2}\")"
      ],
      "metadata": {
        "colab": {
          "base_uri": "https://localhost:8080/"
        },
        "id": "Sab50_Bd9z8U",
        "outputId": "50147f54-08f7-45f6-b2bf-9ef3e0d7b075"
      },
      "execution_count": null,
      "outputs": [
        {
          "output_type": "stream",
          "name": "stdout",
          "text": [
            "greet = 'Good afternoon'\n",
            "s2 = {'r', 'G', 'o', 'f', 'e', 'n', 'd', 'a', 't', ' '}\n"
          ]
        }
      ]
    },
    {
      "cell_type": "code",
      "source": [
        "#LAB 6-10\n",
        "s1 = {10, 20, 30, 40}\n",
        "s2 = {30, 40, 50, 60, 70}\n",
        "\n",
        "print(s1 | s2)\n",
        "print(s1 & s2)\n",
        "print(s1 - s2)\n",
        "print(s1 ^ s2)\n",
        "print(s1.issubset(s2))\n",
        "print(s1.issuperset(s2))\n",
        "print(s1.isdisjoint(s2))"
      ],
      "metadata": {
        "colab": {
          "base_uri": "https://localhost:8080/"
        },
        "id": "eYmbDgcq-wjj",
        "outputId": "0f85995d-591f-45b5-99bc-34bd7de83b39"
      },
      "execution_count": null,
      "outputs": [
        {
          "output_type": "stream",
          "name": "stdout",
          "text": [
            "{70, 40, 10, 50, 20, 60, 30}\n",
            "{40, 30}\n",
            "{10, 20}\n",
            "{50, 20, 70, 10, 60}\n",
            "False\n",
            "False\n",
            "False\n"
          ]
        }
      ]
    },
    {
      "cell_type": "code",
      "source": [
        "#연습문제 6.3\n",
        "menu = {'Americano' : '3,000', 'Ice Americano' : '3,500', 'Cappuccino' : '4,000', 'Caffe Latte' : '4,500', 'Espresso' : '3,600'}\n",
        "\n",
        "for key in menu:\n",
        "  print(f\"{key:15s} 가격 : {menu[key]}원\")\n",
        "\n",
        "drink = input(\"위의 메뉴 중 하나를 선택하세요: \")\n",
        "if drink in menu:\n",
        "  print(f\"{drink}는 {menu[drink]}원 입니다. 결제를 부탁합니다.\")\n",
        "else:\n",
        "  print(f\"미안합니다. {drink}는 메뉴에 없습니다.\")"
      ],
      "metadata": {
        "colab": {
          "base_uri": "https://localhost:8080/"
        },
        "id": "PHvtl8upsA6d",
        "outputId": "595563b9-f366-4d4a-b375-8f186b96a649"
      },
      "execution_count": null,
      "outputs": [
        {
          "output_type": "stream",
          "name": "stdout",
          "text": [
            "Americano       가격 : 3,000원\n",
            "Ice Americano   가격 : 3,500원\n",
            "Cappuccino      가격 : 4,000원\n",
            "Caffe Latte     가격 : 4,500원\n",
            "Espresso        가격 : 3,600원\n",
            "위의 메뉴 중 하나를 선택하세요: Pan Cake\n",
            "미안합니다. Pan Cake는 메뉴에 없습니다.\n"
          ]
        }
      ]
    },
    {
      "cell_type": "code",
      "source": [
        "#연습문제 6.5\n",
        "t = (10, 20, 30, 40, 50, 60)\n",
        "print(t[0])\n",
        "print(t[0:2])\n",
        "print(t[1:])\n",
        "print(t[:3])\n",
        "print(t[1::2])\n",
        "print(t[::-1])"
      ],
      "metadata": {
        "colab": {
          "base_uri": "https://localhost:8080/"
        },
        "id": "nDV0Yk56w9AN",
        "outputId": "6d571ec9-7722-494a-d2ac-c795517e1d83"
      },
      "execution_count": null,
      "outputs": [
        {
          "output_type": "stream",
          "name": "stdout",
          "text": [
            "10\n",
            "(10, 20)\n",
            "(20, 30, 40, 50, 60)\n",
            "(10, 20, 30)\n",
            "(20, 40, 60)\n",
            "(60, 50, 40, 30, 20, 10)\n"
          ]
        }
      ]
    },
    {
      "cell_type": "code",
      "source": [
        "#연습문제 6.6\n",
        "t1 = 'a', 'b', 'c'\n",
        "t2 = ('a', 'b', 'c')\n",
        "t3 = ('d', 'e')\n",
        "\n",
        "[x + y for x in t1 for y in t3]"
      ],
      "metadata": {
        "colab": {
          "base_uri": "https://localhost:8080/"
        },
        "id": "95ZaXbqr0BEL",
        "outputId": "2010f171-f8fb-437f-f94e-840a3d629e9b"
      },
      "execution_count": null,
      "outputs": [
        {
          "output_type": "execute_result",
          "data": {
            "text/plain": [
              "['ad', 'ae', 'bd', 'be', 'cd', 'ce']"
            ]
          },
          "metadata": {},
          "execution_count": 15
        }
      ]
    },
    {
      "cell_type": "code",
      "source": [
        "#연습문제 6.7\n",
        "sales = (100, 121, 120, 130, 140, 120, 122, 123, 190, 125)\n",
        "count = 0\n",
        "\n",
        "for i in range(0, 9):\n",
        "  if sales[i] > sales[i+1]:\n",
        "    count += 1\n",
        "\n",
        "print(f\"지난 10일 동안 전일대비 매출이 감소한 날은 {count}일입니다.\")"
      ],
      "metadata": {
        "colab": {
          "base_uri": "https://localhost:8080/"
        },
        "id": "QjlZz_eG2cwG",
        "outputId": "ebf8c3d3-3f9f-4537-b41b-770311e78f0a"
      },
      "execution_count": null,
      "outputs": [
        {
          "output_type": "stream",
          "name": "stdout",
          "text": [
            "지난 10일 동안 전일대비 매출이 감소한 날은 3일입니다.\n"
          ]
        }
      ]
    },
    {
      "cell_type": "code",
      "source": [
        "#연습문제 6.8\n",
        "t = (1, 2, 5, 4, 3, 2, 9, 1, 4, 7, 8, 9, 9)\n",
        "s1 = set()\n",
        "s2 = set()\n",
        "\n",
        "for num in t:\n",
        "  if num not in s1:\n",
        "    s1.add(num)\n",
        "  else:\n",
        "    s2.add(num)\n",
        "\n",
        "print(f\"주어진 튜플은: {t}\")\n",
        "print(f\"중복 원소는: {s2}\")"
      ],
      "metadata": {
        "id": "8igQtPCb6i3k",
        "colab": {
          "base_uri": "https://localhost:8080/"
        },
        "outputId": "5a51c4c7-5f8e-4dd5-920c-4b348f73d979"
      },
      "execution_count": null,
      "outputs": [
        {
          "output_type": "stream",
          "name": "stdout",
          "text": [
            "주어진 튜플은: (1, 2, 5, 4, 3, 2, 9, 1, 4, 7, 8, 9, 9)\n",
            "중복 원소는: {1, 2, 4, 9}\n"
          ]
        }
      ]
    },
    {
      "cell_type": "code",
      "source": [
        "#연습문제 6.9\n",
        "t = (1, 2, 5, 4, 3, 2, 9, 1, 4, 7, 8, 9, 9)\n",
        "s1 = set()\n",
        "\n",
        "for i in t:\n",
        "  if i not in s:\n",
        "    s.add(i)\n",
        "\n",
        "s2 = tuple(s1)\n",
        "\n",
        "print(f\"주어진 튜플: \")"
      ],
      "metadata": {
        "id": "zKvtIiLmlCa2"
      },
      "execution_count": null,
      "outputs": []
    }
  ]
}