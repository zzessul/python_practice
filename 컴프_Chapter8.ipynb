{
  "nbformat": 4,
  "nbformat_minor": 0,
  "metadata": {
    "colab": {
      "provenance": [],
      "authorship_tag": "ABX9TyNi9YfDeFNqMReDY+OWGEBv",
      "include_colab_link": true
    },
    "kernelspec": {
      "name": "python3",
      "display_name": "Python 3"
    },
    "language_info": {
      "name": "python"
    }
  },
  "cells": [
    {
      "cell_type": "markdown",
      "metadata": {
        "id": "view-in-github",
        "colab_type": "text"
      },
      "source": [
        "<a href=\"https://colab.research.google.com/github/zzessul/python/blob/main/%EC%BB%B4%ED%94%84_Chapter8.ipynb\" target=\"_parent\"><img src=\"https://colab.research.google.com/assets/colab-badge.svg\" alt=\"Open In Colab\"/></a>"
      ]
    },
    {
      "cell_type": "code",
      "execution_count": null,
      "metadata": {
        "id": "FqTd4ri5bWxs",
        "colab": {
          "base_uri": "https://localhost:8080/"
        },
        "outputId": "ed966ccf-2a77-454c-d7a6-fdc072d6bb07"
      },
      "outputs": [
        {
          "output_type": "stream",
          "name": "stdout",
          "text": [
            "100\n",
            "200\n",
            "300\n",
            "400\n"
          ]
        }
      ],
      "source": [
        "#LAB 8-4-(1)\n",
        "f = open('numbers.txt', 'w')\n",
        "f.write('100\\n200\\n300\\n400\\n')\n",
        "f.close()\n",
        "\n",
        "f = open('numbers.txt', 'r')\n",
        "print(f.read(), end = '')\n",
        "f.close()"
      ]
    },
    {
      "cell_type": "code",
      "source": [
        "#LAB 8-4-(2)\n",
        "f = open('we_will_rock.txt', 'w')\n",
        "f.write('Buddy, you\\'re a boy, make a big noise\\n')\n",
        "f.write('Playing in the street, gonna be a big man someday\\n')\n",
        "f.write('You got mud on your face, you big disgrace\\n')\n",
        "f.write('Kicking your can all over the place, singin\\'\\n')\n",
        "f.write('We will, we will rock you\\n')\n",
        "f.write('We will, we will rock you\\n')\n",
        "f.close()\n",
        "\n",
        "f = open('we_will_rock.txt', 'r')\n",
        "print(f.read(), end = '')\n",
        "f.close()"
      ],
      "metadata": {
        "colab": {
          "base_uri": "https://localhost:8080/"
        },
        "id": "O7OAKdpaPOCb",
        "outputId": "6ae17648-e85e-4fb0-89e6-bf860ffcea27"
      },
      "execution_count": null,
      "outputs": [
        {
          "output_type": "stream",
          "name": "stdout",
          "text": [
            "Buddy, you're a boy, make a big noise\n",
            "Playing in the street, gonna be a big man someday\n",
            "You got mud on your face, you big disgrace\n",
            "Kicking your can all over the place, singin'\n",
            "We will, we will rock you\n",
            "We will, we will rock you\n"
          ]
        }
      ]
    },
    {
      "cell_type": "code",
      "source": [
        "#LAB 8-5-(1)\n",
        "f = open('numbers.txt', 'w')\n",
        "f.write('100\\n200\\n300\\n400\\n')\n",
        "f.close()\n",
        "\n",
        "f = open('numbers.txt', 'r')\n",
        "for i in range(4):\n",
        "  s = f.readline().rstrip()\n",
        "  print(s)\n",
        "print(end = '')\n",
        "f.close()"
      ],
      "metadata": {
        "colab": {
          "base_uri": "https://localhost:8080/"
        },
        "id": "pfydrLZAQsSq",
        "outputId": "c86c8039-29aa-4ec1-e12d-d19c4d9b738f"
      },
      "execution_count": null,
      "outputs": [
        {
          "output_type": "stream",
          "name": "stdout",
          "text": [
            "100\n",
            "200\n",
            "300\n",
            "400\n"
          ]
        }
      ]
    },
    {
      "cell_type": "code",
      "source": [
        "#LAB 8-5-(2)\n",
        "f = open('we_will_rock.txt', 'w')\n",
        "f.write('Buddy, you\\'re a boy, make a big noise\\n')\n",
        "f.write('Playing in the street, gonna be a big man someday\\n')\n",
        "f.write('You got mud on your face, you big disgrace\\n')\n",
        "f.write('Kicking your can all over the place, singin\\'\\n')\n",
        "f.write('We will, we will rock you\\n')\n",
        "f.write('We will, we will rock you\\n')\n",
        "f.close()\n",
        "\n",
        "f = open('we_will_rock.txt', 'r')\n",
        "for i in range(6):\n",
        "  s = f.readline().rstrip()\n",
        "  print(s)\n",
        "print(end = '')\n",
        "f.close()"
      ],
      "metadata": {
        "id": "vbYfh5h3R4Xx",
        "colab": {
          "base_uri": "https://localhost:8080/"
        },
        "outputId": "7247763a-9bd4-4aaa-ec51-18870cbd3a98"
      },
      "execution_count": null,
      "outputs": [
        {
          "output_type": "stream",
          "name": "stdout",
          "text": [
            "Buddy, you're a boy, make a big noise\n",
            "Playing in the street, gonna be a big man someday\n",
            "You got mud on your face, you big disgrace\n",
            "Kicking your can all over the place, singin'\n",
            "We will, we will rock you\n",
            "We will, we will rock you\n"
          ]
        }
      ]
    },
    {
      "cell_type": "code",
      "source": [
        "#LAB 8-6-(1)\n",
        "f = open('we_will_rock.txt', 'w')\n",
        "f.write('Buddy, you\\'re a boy, make a big noise\\n')\n",
        "f.write('Playing in the street, gonna be a big man someday\\n')\n",
        "f.write('You got mud on your face, you big disgrace\\n')\n",
        "f.write('Kicking your can all over the place, singin\\'\\n')\n",
        "f.write('We will, we will rock you\\n')\n",
        "f.write('We will, we will rock you\\n')\n",
        "f.close()\n",
        "\n",
        "fname = input(\"입력할 파일의 이름 : \")\n",
        "\n",
        "f = open(fname, 'r')\n",
        "upper_text = f.read().upper()\n",
        "print(upper_text, end = '')\n",
        "f.close()\n",
        "\n",
        "file_upper_name = 'we_will_rock_upper.txt'\n",
        "\n",
        "f = open('we_will_rock_upper', 'w')\n",
        "f.write(upper_text)\n",
        "f.close()"
      ],
      "metadata": {
        "colab": {
          "base_uri": "https://localhost:8080/"
        },
        "id": "dFoCPo1fUzJ5",
        "outputId": "61601abe-a50f-472f-cfac-ded80aa7cd77"
      },
      "execution_count": null,
      "outputs": [
        {
          "output_type": "stream",
          "name": "stdout",
          "text": [
            "입력할 파일의 이름 : we_will_rock.txt\n",
            "BUDDY, YOU'RE A BOY, MAKE A BIG NOISE\n",
            "PLAYING IN THE STREET, GONNA BE A BIG MAN SOMEDAY\n",
            "YOU GOT MUD ON YOUR FACE, YOU BIG DISGRACE\n",
            "KICKING YOUR CAN ALL OVER THE PLACE, SINGIN'\n",
            "WE WILL, WE WILL ROCK YOU\n",
            "WE WILL, WE WILL ROCK YOU\n"
          ]
        }
      ]
    },
    {
      "cell_type": "code",
      "source": [
        "#LAB 8-6-(2)\n",
        "f = open('we_will_rock.txt', 'w')\n",
        "f.write('Buddy, you\\'re a boy, make a big noise\\n')\n",
        "f.write('Playing in the street, gonna be a big man someday\\n')\n",
        "f.write('You got mud on your face, you big disgrace\\n')\n",
        "f.write('Kicking your can all over the place, singin\\'\\n')\n",
        "f.write('We will, we will rock you\\n')\n",
        "f.write('We will, we will rock you\\n')\n",
        "f.close()\n",
        "\n",
        "fname = input(\"파일 이름을 입력하세요 : \")\n",
        "lst = []\n",
        "\n",
        "f = open(fname, 'r')\n",
        "for i in range(6):\n",
        "  l = f.readline()\n",
        "  lst.append(l)\n",
        "lst.reverse()\n",
        "for j in lst:\n",
        "  print(j, end = '')\n",
        "f.close()"
      ],
      "metadata": {
        "colab": {
          "base_uri": "https://localhost:8080/"
        },
        "id": "spXynLBI6R8g",
        "outputId": "67b79e3e-5165-4e67-b05d-24d2601e718b"
      },
      "execution_count": null,
      "outputs": [
        {
          "output_type": "stream",
          "name": "stdout",
          "text": [
            "파일 이름을 입력하세요 : we_will_rock.txt\n",
            "We will, we will rock you\n",
            "We will, we will rock you\n",
            "Kicking your can all over the place, singin'\n",
            "You got mud on your face, you big disgrace\n",
            "Playing in the street, gonna be a big man someday\n",
            "Buddy, you're a boy, make a big noise\n"
          ]
        }
      ]
    },
    {
      "cell_type": "code",
      "source": [
        "#연습문제 8.3-(1)\n",
        "f = open('hello.txt', 'w')\n",
        "f.write('Hello.\\n')\n",
        "f.write('Hi, there.\\n')\n",
        "f.close()\n",
        "\n",
        "f = open('hello.txt', 'r')\n",
        "s = f.read()\n",
        "print(\"hello.txt 파일 :\")\n",
        "print(s, end = '')\n",
        "f.close()"
      ],
      "metadata": {
        "colab": {
          "base_uri": "https://localhost:8080/"
        },
        "id": "jUK3r0CVgLho",
        "outputId": "11429c9d-f81c-4087-fe8a-ac2b52f648be"
      },
      "execution_count": null,
      "outputs": [
        {
          "output_type": "stream",
          "name": "stdout",
          "text": [
            "hello.txt 파일 :\n",
            "Hello.\n",
            "Hi, there.\n"
          ]
        }
      ]
    },
    {
      "cell_type": "code",
      "source": [
        "#연습문제 8.3-(2)\n",
        "f = open('hello.txt', 'w')\n",
        "f.write('Hello.\\n')\n",
        "f.write('Hi, there.\\n')\n",
        "f.close()\n",
        "\n",
        "f = open('hello.txt', 'a+')\n",
        "f.write('Welcome to Python!.\\n')\n",
        "f.close()\n",
        "\n",
        "f = open('hello.txt', 'r')\n",
        "s = f.read()\n",
        "print(\"hello.txt 파일 :\")\n",
        "print(s, end = '')\n",
        "f.close()"
      ],
      "metadata": {
        "colab": {
          "base_uri": "https://localhost:8080/"
        },
        "id": "fVeQ9E6BiQjz",
        "outputId": "c83e1bab-a44c-42ae-bafd-560104604a9b"
      },
      "execution_count": null,
      "outputs": [
        {
          "output_type": "stream",
          "name": "stdout",
          "text": [
            "hello.txt 파일 :\n",
            "Hello.\n",
            "Hi, there.\n",
            "Welcome to Python!.\n"
          ]
        }
      ]
    },
    {
      "cell_type": "code",
      "source": [
        "#연습문제 8.5\n",
        "f = open('number1to10.txt', 'w')\n",
        "for i in range(1, 11):\n",
        "  f.write(f'{i}\\n')\n",
        "f.close()\n",
        "\n",
        "f = open('number1to10.txt', 'r')\n",
        "print(\"number1to10.txt 파일을 읽었습니다.\")\n",
        "n = int(input(\"몇 번째 라인까지 출력하시겠습니까? \"))\n",
        "for i in range(n):\n",
        "  s = f.readline()\n",
        "  print(s, end = '')\n",
        "f.close()"
      ],
      "metadata": {
        "colab": {
          "base_uri": "https://localhost:8080/"
        },
        "id": "exuIxjSOjnGv",
        "outputId": "7360f82b-976b-40cc-94f5-c2ab9445244e"
      },
      "execution_count": null,
      "outputs": [
        {
          "output_type": "stream",
          "name": "stdout",
          "text": [
            "number1to10.txt 파일을 읽었습니다.\n",
            "몇 번째 라인까지 출력하시겠습니까? 3\n",
            "1\n",
            "2\n",
            "3\n"
          ]
        }
      ]
    },
    {
      "cell_type": "code",
      "source": [
        "#연습문제 8.7\n",
        "f = open('number1to10.txt', 'w')\n",
        "for i in range(1, 11):\n",
        "  f.write(f'{i}\\n')\n",
        "f.close()\n",
        "\n",
        "f = open('number1to10.txt', 'r')\n",
        "lines = f.read()\n",
        "f.close()\n",
        "\n",
        "nfile_lines = []\n",
        "for l in lines:\n",
        "  n = int(l.strip(), 10)\n",
        "  nfile_lines.append(f\"{n * 10}\\n\")\n",
        "\n",
        "f = open('numberby10.txt', 'w')\n",
        "f.write(nfile_lines)\n",
        "f.close()\n",
        "\n",
        "f = open('numberby10.txt', 'r')\n",
        "s = f.read()\n",
        "print(s)\n",
        "f.close()"
      ],
      "metadata": {
        "colab": {
          "base_uri": "https://localhost:8080/",
          "height": 217
        },
        "id": "HZJvE9hsnzMh",
        "outputId": "a66395e4-d2c1-49c8-bd71-443c7d36162f"
      },
      "execution_count": null,
      "outputs": [
        {
          "output_type": "error",
          "ename": "ValueError",
          "evalue": "invalid literal for int() with base 10: ''",
          "traceback": [
            "\u001b[0;31m---------------------------------------------------------------------------\u001b[0m",
            "\u001b[0;31mValueError\u001b[0m                                Traceback (most recent call last)",
            "\u001b[0;32m<ipython-input-4-3a37c7150137>\u001b[0m in \u001b[0;36m<cell line: 12>\u001b[0;34m()\u001b[0m\n\u001b[1;32m     11\u001b[0m \u001b[0mnfile_lines\u001b[0m \u001b[0;34m=\u001b[0m \u001b[0;34m[\u001b[0m\u001b[0;34m]\u001b[0m\u001b[0;34m\u001b[0m\u001b[0;34m\u001b[0m\u001b[0m\n\u001b[1;32m     12\u001b[0m \u001b[0;32mfor\u001b[0m \u001b[0ml\u001b[0m \u001b[0;32min\u001b[0m \u001b[0mlines\u001b[0m\u001b[0;34m:\u001b[0m\u001b[0;34m\u001b[0m\u001b[0;34m\u001b[0m\u001b[0m\n\u001b[0;32m---> 13\u001b[0;31m   \u001b[0mn\u001b[0m \u001b[0;34m=\u001b[0m \u001b[0mint\u001b[0m\u001b[0;34m(\u001b[0m\u001b[0ml\u001b[0m\u001b[0;34m.\u001b[0m\u001b[0mstrip\u001b[0m\u001b[0;34m(\u001b[0m\u001b[0;34m)\u001b[0m\u001b[0;34m,\u001b[0m \u001b[0;36m10\u001b[0m\u001b[0;34m)\u001b[0m\u001b[0;34m\u001b[0m\u001b[0;34m\u001b[0m\u001b[0m\n\u001b[0m\u001b[1;32m     14\u001b[0m   \u001b[0mnfile_lines\u001b[0m\u001b[0;34m.\u001b[0m\u001b[0mappend\u001b[0m\u001b[0;34m(\u001b[0m\u001b[0;34mf\"{n * 10}\\n\"\u001b[0m\u001b[0;34m)\u001b[0m\u001b[0;34m\u001b[0m\u001b[0;34m\u001b[0m\u001b[0m\n\u001b[1;32m     15\u001b[0m \u001b[0;34m\u001b[0m\u001b[0m\n",
            "\u001b[0;31mValueError\u001b[0m: invalid literal for int() with base 10: ''"
          ]
        }
      ]
    },
    {
      "cell_type": "code",
      "source": [
        "#연습문제 8.8"
      ],
      "metadata": {
        "id": "8BPv96Abp3jO"
      },
      "execution_count": null,
      "outputs": []
    }
  ]
}