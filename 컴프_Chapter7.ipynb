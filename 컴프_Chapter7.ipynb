{
  "nbformat": 4,
  "nbformat_minor": 0,
  "metadata": {
    "colab": {
      "provenance": [],
      "authorship_tag": "ABX9TyPFQCQ2deZY+BsFVATcrJHd",
      "include_colab_link": true
    },
    "kernelspec": {
      "name": "python3",
      "display_name": "Python 3"
    },
    "language_info": {
      "name": "python"
    }
  },
  "cells": [
    {
      "cell_type": "markdown",
      "metadata": {
        "id": "view-in-github",
        "colab_type": "text"
      },
      "source": [
        "<a href=\"https://colab.research.google.com/github/zzessul/python/blob/main/%EC%BB%B4%ED%94%84_Chapter7.ipynb\" target=\"_parent\"><img src=\"https://colab.research.google.com/assets/colab-badge.svg\" alt=\"Open In Colab\"/></a>"
      ]
    },
    {
      "cell_type": "code",
      "execution_count": null,
      "metadata": {
        "colab": {
          "base_uri": "https://localhost:8080/"
        },
        "id": "4uEP5YeLYDYG",
        "outputId": "db0dcaa3-c872-43b2-b68c-794081e06448"
      },
      "outputs": [
        {
          "output_type": "stream",
          "name": "stdout",
          "text": [
            "오늘의 날짜 : 2024년 6월 9일\n",
            "현재시간 : 오전 5시 30분 22초\n"
          ]
        }
      ],
      "source": [
        "#LAB 7-1\n",
        "from datetime import datetime\n",
        "\n",
        "now = datetime.now()\n",
        "print(f\"오늘의 날짜 : {now.year}년 {now.month}월 {now.day}일\")\n",
        "\n",
        "\n",
        "if now.hour < 12:\n",
        "  print(f\"현재시간 : 오전 {now.hour}시 {now.minute}분 {now.second}초\")\n",
        "else:\n",
        "  print(f\"현재시간 : 오후 {now.hour - 12}시 {now.minute}분 {now.second}초\")"
      ]
    },
    {
      "cell_type": "code",
      "source": [
        "#LAB 7-4-(1)\n",
        "import math as m\n",
        "\n",
        "for i in range(2, 11):\n",
        "  print(f\"4**{i:2.0f} = {m.pow(4, i):9.1f}\")"
      ],
      "metadata": {
        "colab": {
          "base_uri": "https://localhost:8080/"
        },
        "id": "ySJ_4L11epSC",
        "outputId": "fa75d03c-9b27-47ef-a3c6-22c08246abaf"
      },
      "execution_count": null,
      "outputs": [
        {
          "output_type": "stream",
          "name": "stdout",
          "text": [
            "4** 2 =      16.0\n",
            "4** 3 =      64.0\n",
            "4** 4 =     256.0\n",
            "4** 5 =    1024.0\n",
            "4** 6 =    4096.0\n",
            "4** 7 =   16384.0\n",
            "4** 8 =   65536.0\n",
            "4** 9 =  262144.0\n",
            "4**10 = 1048576.0\n"
          ]
        }
      ]
    },
    {
      "cell_type": "code",
      "source": [
        "#LAB 7-4-(2)\n",
        "import math as m\n",
        "\n",
        "for i in range(0, 181, 10):\n",
        "  rad = m.radians(i)\n",
        "  print(f\"{i:3d} degree = {rad:5.3f} radian\")"
      ],
      "metadata": {
        "colab": {
          "base_uri": "https://localhost:8080/"
        },
        "id": "qsyc0IEqklvT",
        "outputId": "b99b957c-7148-49c2-d906-1e513b9203a8"
      },
      "execution_count": null,
      "outputs": [
        {
          "output_type": "stream",
          "name": "stdout",
          "text": [
            "  0 degree = 0.000 radian\n",
            " 10 degree = 0.175 radian\n",
            " 20 degree = 0.349 radian\n",
            " 30 degree = 0.524 radian\n",
            " 40 degree = 0.698 radian\n",
            " 50 degree = 0.873 radian\n",
            " 60 degree = 1.047 radian\n",
            " 70 degree = 1.222 radian\n",
            " 80 degree = 1.396 radian\n",
            " 90 degree = 1.571 radian\n",
            "100 degree = 1.745 radian\n",
            "110 degree = 1.920 radian\n",
            "120 degree = 2.094 radian\n",
            "130 degree = 2.269 radian\n",
            "140 degree = 2.443 radian\n",
            "150 degree = 2.618 radian\n",
            "160 degree = 2.793 radian\n",
            "170 degree = 2.967 radian\n",
            "180 degree = 3.142 radian\n"
          ]
        }
      ]
    },
    {
      "cell_type": "code",
      "source": [
        "#LAB 7-4-(3)\n",
        "import math as m\n",
        "\n",
        "for i in range(0, 181, 10):\n",
        "  print(f\"sin( {i:3d}) = {m.sin(m.radians(i)):1.2f}\")"
      ],
      "metadata": {
        "colab": {
          "base_uri": "https://localhost:8080/"
        },
        "id": "62wvbY85l1Um",
        "outputId": "4339cdb1-a995-49a5-9f6a-6198d5bf766e"
      },
      "execution_count": null,
      "outputs": [
        {
          "output_type": "stream",
          "name": "stdout",
          "text": [
            "sin(   0) = 0.00\n",
            "sin(  10) = 0.17\n",
            "sin(  20) = 0.34\n",
            "sin(  30) = 0.50\n",
            "sin(  40) = 0.64\n",
            "sin(  50) = 0.77\n",
            "sin(  60) = 0.87\n",
            "sin(  70) = 0.94\n",
            "sin(  80) = 0.98\n",
            "sin(  90) = 1.00\n",
            "sin( 100) = 0.98\n",
            "sin( 110) = 0.94\n",
            "sin( 120) = 0.87\n",
            "sin( 130) = 0.77\n",
            "sin( 140) = 0.64\n",
            "sin( 150) = 0.50\n",
            "sin( 160) = 0.34\n",
            "sin( 170) = 0.17\n",
            "sin( 180) = 0.00\n"
          ]
        }
      ]
    },
    {
      "cell_type": "code",
      "source": [
        "#LAB 7-5-(1)\n",
        "import random as rd\n",
        "\n",
        "lst = []\n",
        "for i in range(3):\n",
        "  lst.append(rd.randrange(0, 101, 5))\n",
        "\n",
        "print(f\"0에서 100 이하의 정수 중에서 5의 배수 \\n{lst}\")"
      ],
      "metadata": {
        "colab": {
          "base_uri": "https://localhost:8080/"
        },
        "id": "eGxU81Sfnngi",
        "outputId": "caeb02ea-5561-4266-db85-d817d3749cf8"
      },
      "execution_count": null,
      "outputs": [
        {
          "output_type": "stream",
          "name": "stdout",
          "text": [
            "0에서 100 이하의 정수 중에서 5의 배수 \n",
            "[20, 75, 100]\n"
          ]
        }
      ]
    },
    {
      "cell_type": "code",
      "source": [
        "#LAB 7-5-(2)\n",
        "import random as rd\n",
        "\n",
        "lst = []\n",
        "for i in range(1, 11):\n",
        "  lst.append(i)\n",
        "\n",
        "print(f\"1에서 10 사이의 임의의 정수 : {rd.sample(lst, 3)}\")"
      ],
      "metadata": {
        "colab": {
          "base_uri": "https://localhost:8080/"
        },
        "id": "kcd_OOQWqVqJ",
        "outputId": "759b9069-a00b-4630-b96a-566c22b24d35"
      },
      "execution_count": null,
      "outputs": [
        {
          "output_type": "stream",
          "name": "stdout",
          "text": [
            "1에서 10 사이의 임의의 정수 : [10, 3, 2]\n"
          ]
        }
      ]
    },
    {
      "cell_type": "code",
      "source": [
        "#LAB 7-6-(1)\n",
        "import random as rd\n",
        "\n",
        "print(\"이번 주의 추천 로또번호\")\n",
        "\n",
        "for i in range(5):\n",
        "  lotto_list = list(range(1, 46))\n",
        "  rd.shuffle(lotto_list)\n",
        "  lotto_list = lotto_list[:6]\n",
        "  lotto_list.sort()\n",
        "  print(lotto_list)"
      ],
      "metadata": {
        "colab": {
          "base_uri": "https://localhost:8080/"
        },
        "id": "frYX-kQcwzaA",
        "outputId": "d8b0435f-d759-40f7-e08b-6da29544effc"
      },
      "execution_count": null,
      "outputs": [
        {
          "output_type": "stream",
          "name": "stdout",
          "text": [
            "이번 주의 추천 로또번호\n",
            "[14, 18, 19, 21, 33, 36]\n",
            "[22, 23, 27, 32, 33, 42]\n",
            "[8, 9, 11, 35, 40, 44]\n",
            "[2, 9, 14, 15, 17, 32]\n",
            "[5, 22, 26, 31, 36, 41]\n"
          ]
        }
      ]
    },
    {
      "cell_type": "code",
      "source": [
        "#LAB 7-6-(2)\n",
        "import random as rd\n",
        "\n",
        "num_list = list(range(1, 46))\n",
        "rd.shuffle(num_list)\n",
        "lotto_list = num_list[:6]\n",
        "lotto_list.sort()\n",
        "\n",
        "bonus_list = num_list[6:]\n",
        "bonus = rd.sample(bonus_list, 1)\n",
        "\n",
        "print(\"이번 주의 당첨 로또번호 + 보너스\")\n",
        "print(f\"{lotto_list} + {bonus}\")"
      ],
      "metadata": {
        "colab": {
          "base_uri": "https://localhost:8080/"
        },
        "id": "5IM87YzByIdO",
        "outputId": "f5285108-b7ec-4521-f6ea-21a1f439fd9b"
      },
      "execution_count": null,
      "outputs": [
        {
          "output_type": "stream",
          "name": "stdout",
          "text": [
            "이번 주의 당첨 로또번호 + 보너스\n",
            "[18, 26, 27, 29, 33, 40] + [24]\n"
          ]
        }
      ]
    },
    {
      "cell_type": "code",
      "source": [
        "#연습문제 7.2-(1)\n",
        "import time\n",
        "\n",
        "def sum1to1000000():\n",
        "  sum = 0\n",
        "  for i in range(1, 1000001):\n",
        "    sum += i\n",
        "  return sum\n",
        "\n",
        "start_time = time.time()\n",
        "sum1to1000000()\n",
        "end_time = time.time()\n",
        "\n",
        "print(f\"1부터 1,000,000까지의 합을 구하는 시간 :{end_time - start_time: 6.4f}초\")"
      ],
      "metadata": {
        "colab": {
          "base_uri": "https://localhost:8080/"
        },
        "id": "O3fm_TuSbeXu",
        "outputId": "e976cc48-d698-4cae-eb9e-0f523e5c9e56"
      },
      "execution_count": null,
      "outputs": [
        {
          "output_type": "stream",
          "name": "stdout",
          "text": [
            "1부터 1,000,000까지의 합을 구하는 시간 : 0.0672초\n"
          ]
        }
      ]
    },
    {
      "cell_type": "code",
      "source": [
        "#연습문제 7.2-(2)\n",
        "import time\n",
        "\n",
        "def sum1to1000000():\n",
        "  sum = 0\n",
        "  for i in range(1, 1000001):\n",
        "    sum += i\n",
        "  return sum\n",
        "\n",
        "start_time = time.time()\n",
        "for i in range(100):\n",
        "  sum1to1000000()\n",
        "end_time = time.time()\n",
        "\n",
        "print(f\"1,000,000까지의 합을 100번 반복해서 구하는 시간 :{end_time - start_time: 6.4f}초\")"
      ],
      "metadata": {
        "colab": {
          "base_uri": "https://localhost:8080/"
        },
        "id": "rfZJOHI9c7Cn",
        "outputId": "e6470f69-a9b6-4734-f8e0-f157c0693ba7"
      },
      "execution_count": null,
      "outputs": [
        {
          "output_type": "stream",
          "name": "stdout",
          "text": [
            "1,000,000까지의 합을 100번 반복해서 구하는 시간 : 7.5171초\n"
          ]
        }
      ]
    },
    {
      "cell_type": "code",
      "source": [
        "#연습문제 7.3-(1)\n",
        "import time\n",
        "\n",
        "def print_python():\n",
        "  print(\"Hello Python!\")\n",
        "\n",
        "start_time = time.time()\n",
        "for i in range(100):\n",
        "  print_python()\n",
        "end_time = time.time()\n",
        "\n",
        "print('')\n",
        "print(f\"Hello Python! 출력을 100번 반복하는 시간 :{end_time - start_time: 6.4f}초\")"
      ],
      "metadata": {
        "colab": {
          "base_uri": "https://localhost:8080/"
        },
        "id": "AiXE-0LUdyDg",
        "outputId": "1ec90797-ce4e-4418-9ce0-c9389351c54d"
      },
      "execution_count": null,
      "outputs": [
        {
          "output_type": "stream",
          "name": "stdout",
          "text": [
            "Hello Python!\n",
            "Hello Python!\n",
            "Hello Python!\n",
            "Hello Python!\n",
            "Hello Python!\n",
            "Hello Python!\n",
            "Hello Python!\n",
            "Hello Python!\n",
            "Hello Python!\n",
            "Hello Python!\n",
            "Hello Python!\n",
            "Hello Python!\n",
            "Hello Python!\n",
            "Hello Python!\n",
            "Hello Python!\n",
            "Hello Python!\n",
            "Hello Python!\n",
            "Hello Python!\n",
            "Hello Python!\n",
            "Hello Python!\n",
            "Hello Python!\n",
            "Hello Python!\n",
            "Hello Python!\n",
            "Hello Python!\n",
            "Hello Python!\n",
            "Hello Python!\n",
            "Hello Python!\n",
            "Hello Python!\n",
            "Hello Python!\n",
            "Hello Python!\n",
            "Hello Python!\n",
            "Hello Python!\n",
            "Hello Python!\n",
            "Hello Python!\n",
            "Hello Python!\n",
            "Hello Python!\n",
            "Hello Python!\n",
            "Hello Python!\n",
            "Hello Python!\n",
            "Hello Python!\n",
            "Hello Python!\n",
            "Hello Python!\n",
            "Hello Python!\n",
            "Hello Python!\n",
            "Hello Python!\n",
            "Hello Python!\n",
            "Hello Python!\n",
            "Hello Python!\n",
            "Hello Python!\n",
            "Hello Python!\n",
            "Hello Python!\n",
            "Hello Python!\n",
            "Hello Python!\n",
            "Hello Python!\n",
            "Hello Python!\n",
            "Hello Python!\n",
            "Hello Python!\n",
            "Hello Python!\n",
            "Hello Python!\n",
            "Hello Python!\n",
            "Hello Python!\n",
            "Hello Python!\n",
            "Hello Python!\n",
            "Hello Python!\n",
            "Hello Python!\n",
            "Hello Python!\n",
            "Hello Python!\n",
            "Hello Python!\n",
            "Hello Python!\n",
            "Hello Python!\n",
            "Hello Python!\n",
            "Hello Python!\n",
            "Hello Python!\n",
            "Hello Python!\n",
            "Hello Python!\n",
            "Hello Python!\n",
            "Hello Python!\n",
            "Hello Python!\n",
            "Hello Python!\n",
            "Hello Python!\n",
            "Hello Python!\n",
            "Hello Python!\n",
            "Hello Python!\n",
            "Hello Python!\n",
            "Hello Python!\n",
            "Hello Python!\n",
            "Hello Python!\n",
            "Hello Python!\n",
            "Hello Python!\n",
            "Hello Python!\n",
            "Hello Python!\n",
            "Hello Python!\n",
            "Hello Python!\n",
            "Hello Python!\n",
            "Hello Python!\n",
            "Hello Python!\n",
            "Hello Python!\n",
            "Hello Python!\n",
            "Hello Python!\n",
            "Hello Python!\n",
            "\n",
            "Hello Python! 출력을 100번 반복하는 시간 : 0.0237초\n"
          ]
        }
      ]
    },
    {
      "cell_type": "code",
      "source": [
        "#연습문제 7.3-(2)\n",
        "import time\n",
        "\n",
        "def factorial1000():\n",
        "  sum = 1\n",
        "  for i in range(1, 1001):\n",
        "    sum *= i\n",
        "  return sum\n",
        "\n",
        "start_time = time.time()\n",
        "for i in range(100):\n",
        "  factorial1000()\n",
        "end_time = time.time()\n",
        "\n",
        "print(f\"1000!을 100번 반복해서 구하는 시간 :{end_time - start_time: 6.4f}초\")"
      ],
      "metadata": {
        "colab": {
          "base_uri": "https://localhost:8080/"
        },
        "id": "bBfaKmeoe1Bl",
        "outputId": "219b4d1b-9c41-4251-da98-539d04374107"
      },
      "execution_count": null,
      "outputs": [
        {
          "output_type": "stream",
          "name": "stdout",
          "text": [
            "1000!을 100번 반복해서 구하는 시간 : 0.0307초\n"
          ]
        }
      ]
    },
    {
      "cell_type": "code",
      "source": [
        "#연습문제 7.3-(3)\n",
        "import time\n",
        "\n",
        "def sum_odd():\n",
        "  sum = 0\n",
        "  for i in range(1, 1001, 2):\n",
        "    sum += i**3\n",
        "  return sum\n",
        "\n",
        "start_time = time.time()\n",
        "for i in range(100):\n",
        "  sum_odd()\n",
        "end_time = time.time()\n",
        "\n",
        "print(f\"1부터 1000까지 홀수의 세제곱 더하기를 100번 반복하는 시간 :{end_time - start_time: 6.4f}초\")"
      ],
      "metadata": {
        "colab": {
          "base_uri": "https://localhost:8080/"
        },
        "id": "BOL5znf1gUZH",
        "outputId": "0996ae6d-98ea-4232-a03d-1a8bcd106673"
      },
      "execution_count": null,
      "outputs": [
        {
          "output_type": "stream",
          "name": "stdout",
          "text": [
            "1부터 1000까지 홀수의 세제곱 더하기를 100번 반복하는 시간 : 0.0223초\n"
          ]
        }
      ]
    },
    {
      "cell_type": "code",
      "source": [
        "#연습문제 7.3-(4)\n",
        "import time\n",
        "import math as m\n",
        "\n",
        "def sum_sin():\n",
        "  sum = 0\n",
        "  for i in range(1, 361):\n",
        "    sum += m.sin(i)\n",
        "  return sum\n",
        "\n",
        "start_time = time.time()\n",
        "for i in range(100):\n",
        "  sum_sin()\n",
        "end_time = time.time()\n",
        "\n",
        "print(f\"1부터 360도까지 sin 값의 합을 100번 반복하는 시간 :{end_time - start_time: 6.4f}초\")"
      ],
      "metadata": {
        "colab": {
          "base_uri": "https://localhost:8080/"
        },
        "id": "Uj8zHb47g6v-",
        "outputId": "e4ed7ff8-13a9-41db-8c53-25a4bb2ef964"
      },
      "execution_count": null,
      "outputs": [
        {
          "output_type": "stream",
          "name": "stdout",
          "text": [
            "1부터 360도까지 sin 값의 합을 100번 반복하는 시간 : 0.0103초\n"
          ]
        }
      ]
    },
    {
      "cell_type": "code",
      "source": [
        "#연습문제 7.4\n",
        "def my_rand(x):\n",
        "  new_x = (115245 * x + 12345) % (2 ** 17)\n",
        "  return new_x\n",
        "\n",
        "x = 123\n",
        "for i in range(10):\n",
        "  x = my_rand(x)\n",
        "  print(x)"
      ],
      "metadata": {
        "colab": {
          "base_uri": "https://localhost:8080/"
        },
        "id": "SiLM3BfYh3u8",
        "outputId": "a2d87a74-32fe-4234-a6cb-41c74cd0ea26"
      },
      "execution_count": null,
      "outputs": [
        {
          "output_type": "stream",
          "name": "stdout",
          "text": [
            "31704\n",
            "107825\n",
            "23510\n",
            "32983\n",
            "50180\n",
            "109805\n",
            "12258\n",
            "122611\n",
            "100080\n",
            "51305\n"
          ]
        }
      ]
    },
    {
      "cell_type": "code",
      "source": [
        "#연습문제 7.4-(2)\n",
        "import time\n",
        "\n",
        "def my_rand(x):\n",
        "  new_x = (115245 * x + 12345) % (2 ** 17)\n",
        "  return new_x\n",
        "\n",
        "\n",
        "x = int(time.time() / 1000)\n",
        "for i in range(5):\n",
        "  x = my_rand(x)\n",
        "  print(x)"
      ],
      "metadata": {
        "colab": {
          "base_uri": "https://localhost:8080/"
        },
        "id": "v_poxA70ls6m",
        "outputId": "321fe85a-44db-41ef-8a0a-19af248e65f9"
      },
      "execution_count": null,
      "outputs": [
        {
          "output_type": "stream",
          "name": "stdout",
          "text": [
            "117812\n",
            "32093\n",
            "111506\n",
            "91363\n",
            "127520\n"
          ]
        }
      ]
    }
  ]
}