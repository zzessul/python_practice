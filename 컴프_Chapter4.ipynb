{
  "nbformat": 4,
  "nbformat_minor": 0,
  "metadata": {
    "colab": {
      "provenance": [],
      "authorship_tag": "ABX9TyOSRPotVoswm4aw6O/EMhIx",
      "include_colab_link": true
    },
    "kernelspec": {
      "name": "python3",
      "display_name": "Python 3"
    },
    "language_info": {
      "name": "python"
    }
  },
  "cells": [
    {
      "cell_type": "markdown",
      "metadata": {
        "id": "view-in-github",
        "colab_type": "text"
      },
      "source": [
        "<a href=\"https://colab.research.google.com/github/zzessul/python/blob/main/%EC%BB%B4%ED%94%84_Chapter4.ipynb\" target=\"_parent\"><img src=\"https://colab.research.google.com/assets/colab-badge.svg\" alt=\"Open In Colab\"/></a>"
      ]
    },
    {
      "cell_type": "code",
      "execution_count": null,
      "metadata": {
        "id": "YIYk7E7kws2s",
        "colab": {
          "base_uri": "https://localhost:8080/"
        },
        "outputId": "2bd81068-9efb-40c4-8610-7e7ce5e8eb29"
      },
      "outputs": [
        {
          "output_type": "stream",
          "name": "stdout",
          "text": [
            "#########################\n",
            "*************************\n",
            "+++++++++++++++++++++++++\n",
            "+++++++++++++++++++++++++\n",
            "*************************\n",
            "#########################\n"
          ]
        }
      ],
      "source": [
        "def print_star():\n",
        "  print('*' * 25)\n",
        "\n",
        "def print_plus():\n",
        "  print('+' * 25)\n",
        "\n",
        "def print_hash():\n",
        "  print('#' * 25)\n",
        "\n",
        "print_hash()\n",
        "print_star()\n",
        "print_plus()\n",
        "print_plus()\n",
        "print_star()\n",
        "print_hash()"
      ]
    },
    {
      "cell_type": "code",
      "source": [
        "def print_hash(n):\n",
        "  for _ in range(n):\n",
        "    print(_, '#' * 25)\n",
        "\n",
        "print_hash(6)"
      ],
      "metadata": {
        "colab": {
          "base_uri": "https://localhost:8080/"
        },
        "id": "nfgyKfsTNdq4",
        "outputId": "eb050956-db59-4bc6-844d-a0fd958f6a30"
      },
      "execution_count": null,
      "outputs": [
        {
          "output_type": "stream",
          "name": "stdout",
          "text": [
            "0 #########################\n",
            "1 #########################\n",
            "2 #########################\n",
            "3 #########################\n",
            "4 #########################\n",
            "5 #########################\n"
          ]
        }
      ]
    },
    {
      "cell_type": "code",
      "source": [
        "def print_sub(a, b):\n",
        "  result = a - b\n",
        "  print(f\"{a}과 {b}의 차는 {a-b}입니다.\")\n",
        "\n",
        "print_sub(10, 20)"
      ],
      "metadata": {
        "colab": {
          "base_uri": "https://localhost:8080/"
        },
        "id": "gfcJMo29NwNg",
        "outputId": "81d415bc-416f-48aa-969a-6f7fd6652ff6"
      },
      "execution_count": null,
      "outputs": [
        {
          "output_type": "stream",
          "name": "stdout",
          "text": [
            "10과 20의 차는 -10입니다.\n"
          ]
        }
      ]
    },
    {
      "cell_type": "code",
      "source": [
        "def print_mult(a, b):\n",
        "  result = a * b\n",
        "  print(f\"{a}과 {b}의 곱은 {a * b}입니다.\")\n",
        "\n",
        "print_mult(10, 20)"
      ],
      "metadata": {
        "colab": {
          "base_uri": "https://localhost:8080/"
        },
        "id": "mATA0miUPAc4",
        "outputId": "0bd8521a-d7f5-45f9-da2f-6661f70b1375"
      },
      "execution_count": null,
      "outputs": [
        {
          "output_type": "stream",
          "name": "stdout",
          "text": [
            "10과 20의 곱은 200입니다.\n"
          ]
        }
      ]
    },
    {
      "cell_type": "code",
      "source": [
        "def print_root(a, b, c):\n",
        "  r1 = (-b + (b ** 2 - 4 * a * c) ** 0.5) / (2 * a)\n",
        "  r2 = (-b - (b ** 2 - 4 * a * c) ** 0.5) / (2 * a)\n",
        "  print('해는', r1, '또는', r2)\n",
        "\n",
        "print_root(1, 4, -21)\n",
        "print_root(1, -6, 8)"
      ],
      "metadata": {
        "colab": {
          "base_uri": "https://localhost:8080/"
        },
        "id": "R219pbDYQlDT",
        "outputId": "b092cf68-23fe-4e2a-f737-f2937fdb98bb"
      },
      "execution_count": null,
      "outputs": [
        {
          "output_type": "stream",
          "name": "stdout",
          "text": [
            "해는 3.0 또는 -7.0\n",
            "해는 4.0 또는 2.0\n"
          ]
        }
      ]
    },
    {
      "cell_type": "code",
      "source": [
        "def print_area(width, height):\n",
        "  print(f\"밑변 {width}, 높이 {height}인 삼각형의 면적은 : {int(width * height / 2)}\")\n",
        "\n",
        "print_area(10, 20)"
      ],
      "metadata": {
        "colab": {
          "base_uri": "https://localhost:8080/"
        },
        "id": "7yxIM1aiRT68",
        "outputId": "8fc5a75a-b070-4ca8-eb26-0f71b2447d55"
      },
      "execution_count": null,
      "outputs": [
        {
          "output_type": "stream",
          "name": "stdout",
          "text": [
            "밑변 10, 높이 20인 삼각형의 면적은 : 100\n"
          ]
        }
      ]
    },
    {
      "cell_type": "code",
      "source": [
        "def circle_area_circum(radius):\n",
        "  area = 3.14 * radius * radius\n",
        "  circum = 2 * 3.14 * radius\n",
        "  return area, circum\n",
        "\n",
        "radius = 10\n",
        "area, circum = circle_area_circum(radius)\n",
        "print(f\"반지름 {radius}인 원의 면적은 {area:.1f}, 원의 둘레는 {circum:.1f}\")"
      ],
      "metadata": {
        "colab": {
          "base_uri": "https://localhost:8080/"
        },
        "id": "m_DRAanaVnIx",
        "outputId": "c13aa8b1-cc65-49fb-d84d-442e9c3a1f01"
      },
      "execution_count": null,
      "outputs": [
        {
          "output_type": "stream",
          "name": "stdout",
          "text": [
            "반지름 10인 원의 면적은 314.0, 원의 둘레는 62.8\n"
          ]
        }
      ]
    },
    {
      "cell_type": "code",
      "source": [
        "def multiplies(n, m):\n",
        "  tup = ()\n",
        "  for i in range(1, m+1):\n",
        "    tup = tup + (n * i, )\n",
        "  return tup\n",
        "\n",
        "r1, r2, r3, r4 = multiplies(3, 4)\n",
        "print(r1, r2, r3, r4)\n",
        "r1, r2, r3, r4, r5 = multiplies(2, 5)\n",
        "print(r1, r2, r3, r4, r5)"
      ],
      "metadata": {
        "colab": {
          "base_uri": "https://localhost:8080/"
        },
        "id": "8fghSFeoXewk",
        "outputId": "8605f607-44e7-4ee5-e304-4b5877670cb5"
      },
      "execution_count": null,
      "outputs": [
        {
          "output_type": "stream",
          "name": "stdout",
          "text": [
            "3 6 9 12\n",
            "2 4 6 8 10\n"
          ]
        }
      ]
    },
    {
      "cell_type": "code",
      "source": [
        "def sum_nums(*numbers):\n",
        "  result = 0\n",
        "  for n in numbers:\n",
        "    result += n\n",
        "  return result\n",
        "\n",
        "tup1 = (10, 20, 30)\n",
        "tup2 = (10, 20, 30, 40, 50)\n",
        "\n",
        "print(f\"{len(tup1)} 개의 인자 {tup1}\\n합계 : {sum_nums(10, 20, 30)} , 평균 : {sum_nums(10, 20, 30) / len(tup1)}\")\n",
        "print(f\"{len(tup2)} 개의 인자 {tup2}\\n합계 : {sum_nums(10, 20, 30, 40, 50)} , 평균 : {sum_nums(10, 20, 30, 40, 50) / len(tup2)}\")"
      ],
      "metadata": {
        "colab": {
          "base_uri": "https://localhost:8080/"
        },
        "id": "VK_309i5hTm_",
        "outputId": "eb11d994-938a-45b8-b2f7-ad07d7b5c168"
      },
      "execution_count": null,
      "outputs": [
        {
          "output_type": "stream",
          "name": "stdout",
          "text": [
            "3 개의 인자 (10, 20, 30)\n",
            "합계 : 60 , 평균 : 20.0\n",
            "5 개의 인자 (10, 20, 30, 40, 50)\n",
            "합계 : 150 , 평균 : 30.0\n"
          ]
        }
      ]
    },
    {
      "cell_type": "code",
      "source": [
        "def min_nums(*numbers):\n",
        "  minimum = 0\n",
        "  for n in numbers:\n",
        "    if minimum == 0:\n",
        "      minimum = n\n",
        "    elif minimum > n:\n",
        "      minimum = n\n",
        "    else:\n",
        "      continue\n",
        "  return minimum\n",
        "\n",
        "print(f\"최솟값은 {min_nums(20, 40, 50, 10)}\")"
      ],
      "metadata": {
        "colab": {
          "base_uri": "https://localhost:8080/"
        },
        "id": "1l3yxexV4LoS",
        "outputId": "f04e513d-a53b-4364-f34f-5b1155198fce"
      },
      "execution_count": null,
      "outputs": [
        {
          "output_type": "stream",
          "name": "stdout",
          "text": [
            "최솟값은 10\n"
          ]
        }
      ]
    },
    {
      "cell_type": "code",
      "source": [
        "name = input('당신의 이름을 입력해주세요 : ')\n",
        "age = input('나이를 입력해주세요 : ')\n",
        "job = input('직업을 입력해주세요 : ')\n",
        "place = input('사는 곳을 입력해주세요 : ')\n",
        "\n",
        "print('당신의 이름은 {}, 나이는 {}살, 직업은 {}, 사는 곳은 {}입니다.'.format(name, age, job, place))\n",
        "print('당신의 이름은', name, ', 나이는', age, '살, 직업은', job, ', 사는 곳은', place, '입니다.')"
      ],
      "metadata": {
        "colab": {
          "base_uri": "https://localhost:8080/"
        },
        "id": "Ir6aX-d0Gzfm",
        "outputId": "a314ab60-0c43-451c-ba7c-30a8cd5b42cc"
      },
      "execution_count": null,
      "outputs": [
        {
          "output_type": "stream",
          "name": "stdout",
          "text": [
            "당신의 이름을 입력해주세요 : 김철수\n",
            "나이를 입력해주세요 : 21\n",
            "직업을 입력해주세요 : 학생\n",
            "사는 곳을 입력해주세요 : 창원시\n",
            "당신의 이름은 김철수, 나이는 21살, 직업은 학생, 사는 곳은 창원시입니다.\n",
            "당신의 이름은 김철수 , 나이는 21 살, 직업은 학생 , 사는 곳은 창원시 입니다.\n"
          ]
        }
      ]
    },
    {
      "cell_type": "code",
      "source": [
        "'_'.join('ABCD')"
      ],
      "metadata": {
        "colab": {
          "base_uri": "https://localhost:8080/",
          "height": 36
        },
        "id": "BI1dFotqIbOo",
        "outputId": "34ff6d74-543a-40c9-b9ec-4e60e952b374"
      },
      "execution_count": null,
      "outputs": [
        {
          "output_type": "execute_result",
          "data": {
            "text/plain": [
              "'A_B_C_D'"
            ],
            "application/vnd.google.colaboratory.intrinsic+json": {
              "type": "string"
            }
          },
          "metadata": {},
          "execution_count": 12
        }
      ]
    },
    {
      "cell_type": "code",
      "source": [
        "s1 = 'My favorite thing is monsters.'\n",
        "s1.replace('monsters', 'cartoons')"
      ],
      "metadata": {
        "colab": {
          "base_uri": "https://localhost:8080/",
          "height": 36
        },
        "id": "z0zDSaaLIbmn",
        "outputId": "0d768b96-8680-442b-b429-3cba0df37b70"
      },
      "execution_count": null,
      "outputs": [
        {
          "output_type": "execute_result",
          "data": {
            "text/plain": [
              "'My favorite thing is cartoons.'"
            ],
            "application/vnd.google.colaboratory.intrinsic+json": {
              "type": "string"
            }
          },
          "metadata": {},
          "execution_count": 13
        }
      ]
    },
    {
      "cell_type": "code",
      "source": [
        "def my_greet():\n",
        "  print('환영합니다.')\n",
        "\n",
        "my_greet()\n",
        "my_greet()"
      ],
      "metadata": {
        "colab": {
          "base_uri": "https://localhost:8080/"
        },
        "id": "8UyyyKE4Ob9w",
        "outputId": "413326b9-020a-49b9-dedf-dfe3d5b3c556"
      },
      "execution_count": null,
      "outputs": [
        {
          "output_type": "stream",
          "name": "stdout",
          "text": [
            "환영합니다.\n",
            "환영합니다.\n"
          ]
        }
      ]
    },
    {
      "cell_type": "code",
      "source": [
        "def square(n):\n",
        "  return n*n\n",
        "\n",
        "print('3의 제곱은 :', square(3))\n",
        "print('4의 제곱은 :', square(4))"
      ],
      "metadata": {
        "colab": {
          "base_uri": "https://localhost:8080/"
        },
        "id": "fk5Nm2n4O67h",
        "outputId": "16f532ca-c4f2-4812-8bb6-ed68b62d866c"
      },
      "execution_count": null,
      "outputs": [
        {
          "output_type": "stream",
          "name": "stdout",
          "text": [
            "3의 제곱은 : 9\n",
            "4의 제곱은 : 16\n"
          ]
        }
      ]
    },
    {
      "cell_type": "code",
      "source": [
        "def max2(m, n):\n",
        "  if m > n:\n",
        "    return m\n",
        "  else:\n",
        "    return n\n",
        "\n",
        "def min2(m, n):\n",
        "  if m < n:\n",
        "    return m\n",
        "  else:\n",
        "    return n\n",
        "\n",
        "print('100과 200중 큰 수는 :', max2(100, 200))\n",
        "print('100과 200중 작은 수는 :', min2(100, 200))"
      ],
      "metadata": {
        "colab": {
          "base_uri": "https://localhost:8080/"
        },
        "id": "d6bJWJgLPmL0",
        "outputId": "c94bf999-b997-45e8-9119-6809be1bc532"
      },
      "execution_count": null,
      "outputs": [
        {
          "output_type": "stream",
          "name": "stdout",
          "text": [
            "100과 200중 큰 수는 : 200\n",
            "100과 200중 작은 수는 : 100\n"
          ]
        }
      ]
    },
    {
      "cell_type": "code",
      "source": [
        "def mile2km(m):\n",
        "  kilometer = m * 1.61\n",
        "  return kilometer\n",
        "\n",
        "for i in range(1, 6):\n",
        "  print(f\"{i} 마일 = {mile2km(i)} 킬로미터\")"
      ],
      "metadata": {
        "colab": {
          "base_uri": "https://localhost:8080/"
        },
        "id": "1EGC7xr-Qx7S",
        "outputId": "55d42def-ec30-4c25-8d1f-b76df8fd97d8"
      },
      "execution_count": null,
      "outputs": [
        {
          "output_type": "stream",
          "name": "stdout",
          "text": [
            "1 마일 = 1.61 킬로미터\n",
            "2 마일 = 3.22 킬로미터\n",
            "3 마일 = 4.83 킬로미터\n",
            "4 마일 = 6.44 킬로미터\n",
            "5 마일 = 8.05 킬로미터\n"
          ]
        }
      ]
    },
    {
      "cell_type": "code",
      "source": [
        "def inch2cm(inch):\n",
        "  cm = inch * 2.54\n",
        "  return cm\n",
        "\n",
        "for i in range(1, 6):\n",
        "  print(f\"{i} 인치 = {inch2cm(i)} 센티미터\")"
      ],
      "metadata": {
        "colab": {
          "base_uri": "https://localhost:8080/"
        },
        "id": "ABJveJs3SUC7",
        "outputId": "648fe452-bddd-4f93-87c2-8277ab782236"
      },
      "execution_count": null,
      "outputs": [
        {
          "output_type": "stream",
          "name": "stdout",
          "text": [
            "1 인치 = 2.54 센티미터\n",
            "2 인치 = 5.08 센티미터\n",
            "3 인치 = 7.62 센티미터\n",
            "4 인치 = 10.16 센티미터\n",
            "5 인치 = 12.7 센티미터\n"
          ]
        }
      ]
    },
    {
      "cell_type": "code",
      "source": [
        "def cel2fah(cel):\n",
        "  fah = (9/5) * cel + 32\n",
        "  return fah\n",
        "\n",
        "for i in range(10, 60, 10):\n",
        "  print(f\"섭씨 {i} 도 = 화씨 {cel2fah(i)} 도\")"
      ],
      "metadata": {
        "colab": {
          "base_uri": "https://localhost:8080/"
        },
        "id": "Exg6ieiQTB5X",
        "outputId": "5e17272a-8584-4c38-dfd1-35448724a48b"
      },
      "execution_count": null,
      "outputs": [
        {
          "output_type": "stream",
          "name": "stdout",
          "text": [
            "섭씨 10 도 = 화씨 50.0 도\n",
            "섭씨 20 도 = 화씨 68.0 도\n",
            "섭씨 30 도 = 화씨 86.0 도\n",
            "섭씨 40 도 = 화씨 104.0 도\n",
            "섭씨 50 도 = 화씨 122.0 도\n"
          ]
        }
      ]
    },
    {
      "cell_type": "code",
      "source": [
        "def mean3(a, b, c):\n",
        "  nums_mean = (a + b + c) / 3\n",
        "  return nums_mean\n",
        "\n",
        "def max3(a, b, c):\n",
        "  nums_max = max(a, b, c)\n",
        "  return nums_max\n",
        "\n",
        "def min3(a, b, c):\n",
        "  nums_min = min(a, b, c)\n",
        "  return nums_min\n",
        "\n",
        "a, b, c = input(\"세 수를 입력하시오 : \").split()\n",
        "a, b, c = int(a), int(b), int(c)\n",
        "\n",
        "print(f\"{a, b, c}의 평균값은 {mean3(a, b, c)}\")\n",
        "print(f\"{a, b, c}의 최댓값은 {max3(a, b, c)}\")\n",
        "print(f\"{a, b, c}의 최솟값은 {min3(a, b, c)}\")"
      ],
      "metadata": {
        "colab": {
          "base_uri": "https://localhost:8080/"
        },
        "id": "PfMnGQBYTdP3",
        "outputId": "5f572340-e41a-4e97-fc4b-07671cfe0139"
      },
      "execution_count": null,
      "outputs": [
        {
          "output_type": "stream",
          "name": "stdout",
          "text": [
            "세 수를 입력하시오 : 10 30 20\n",
            "(10, 30, 20)의 평균값은 20.0\n",
            "(10, 30, 20)의 최댓값은 30\n",
            "(10, 30, 20)의 최솟값은 10\n"
          ]
        }
      ]
    },
    {
      "cell_type": "code",
      "source": [
        "def mean6(a, b, c, d, e, f):\n",
        "  nums_mean = (a + b + c + d + e + f) / 6\n",
        "  return nums_mean\n",
        "\n",
        "def max6(a, b, c, d, e, f):\n",
        "  nums_max = max(a, b, c, d, e, f)\n",
        "  return nums_max\n",
        "\n",
        "def min6(a, b, c, d, e, f):\n",
        "  nums_min = min(a, b, c, d, e, f)\n",
        "  return nums_min\n",
        "\n",
        "a, b, c, d, e, f = input(\"여섯 개의 수를 입력하시오 : \").split()\n",
        "a, b, c, d, e, f = int(a), int(b), int(c), int(d), int(e), int(f)\n",
        "\n",
        "print(f\"평균값은 {mean6(a, b, c, d, e, f)}\")\n",
        "print(f\"최댓값은 {max6(a, b, c, d, e, f)}\")\n",
        "print(f\"최솟값은 {min6(a, b, c, d, e, f)}\")"
      ],
      "metadata": {
        "colab": {
          "base_uri": "https://localhost:8080/"
        },
        "id": "kwQ-pMdp2zHZ",
        "outputId": "fdb06564-383a-42f2-e9c4-ca98c0127270"
      },
      "execution_count": null,
      "outputs": [
        {
          "output_type": "stream",
          "name": "stdout",
          "text": [
            "여섯 개의 수를 입력하시오 : 100 20 30 45 260 370\n",
            "평균값은 137.5\n",
            "최댓값은 370\n",
            "최솟값은 20\n"
          ]
        }
      ]
    },
    {
      "cell_type": "code",
      "source": [
        "# 연습문제 4.9번\n",
        "\n",
        "def mean_of_n(*nums):\n",
        "  n_mean = sum(nums) / len(nums)\n",
        "  return n_mean\n",
        "\n",
        "def max_of_n(*nums):\n",
        "  n_max = max(nums)\n",
        "  return n_max\n",
        "\n",
        "def min_of_n(*nums):\n",
        "  n_min = min(nums)\n",
        "  return n_min\n",
        "\n",
        "number = []\n",
        "n = (input('정수를 여러 개 입력하시오 : '))\n",
        "n = int(n)\n",
        "number.append(n)\n",
        "\n",
        "print(f'평균값은 {mean_of_n(number)}\\n최댓값은 {max_of_n(number)}\\n최솟값은 {min_of_n(number)}')"
      ],
      "metadata": {
        "colab": {
          "base_uri": "https://localhost:8080/",
          "height": 235
        },
        "id": "xPXmLdad5XNQ",
        "outputId": "286f107a-966a-4019-e3d4-e7ab6d5ffcbb"
      },
      "execution_count": null,
      "outputs": [
        {
          "name": "stdout",
          "output_type": "stream",
          "text": [
            "정수를 여러 개 입력하시오 : 3 45 32 5 7 8 4 44 5 90 1\n"
          ]
        },
        {
          "output_type": "error",
          "ename": "ValueError",
          "evalue": "invalid literal for int() with base 10: '3 45 32 5 7 8 4 44 5 90 1'",
          "traceback": [
            "\u001b[0;31m---------------------------------------------------------------------------\u001b[0m",
            "\u001b[0;31mValueError\u001b[0m                                Traceback (most recent call last)",
            "\u001b[0;32m<ipython-input-7-73da2773f181>\u001b[0m in \u001b[0;36m<cell line: 15>\u001b[0;34m()\u001b[0m\n\u001b[1;32m     13\u001b[0m \u001b[0mnumber\u001b[0m \u001b[0;34m=\u001b[0m \u001b[0;34m[\u001b[0m\u001b[0;34m]\u001b[0m\u001b[0;34m\u001b[0m\u001b[0;34m\u001b[0m\u001b[0m\n\u001b[1;32m     14\u001b[0m \u001b[0mn\u001b[0m \u001b[0;34m=\u001b[0m \u001b[0;34m(\u001b[0m\u001b[0minput\u001b[0m\u001b[0;34m(\u001b[0m\u001b[0;34m'정수를 여러 개 입력하시오 : '\u001b[0m\u001b[0;34m)\u001b[0m\u001b[0;34m)\u001b[0m\u001b[0;34m\u001b[0m\u001b[0;34m\u001b[0m\u001b[0m\n\u001b[0;32m---> 15\u001b[0;31m \u001b[0mn\u001b[0m \u001b[0;34m=\u001b[0m \u001b[0mint\u001b[0m\u001b[0;34m(\u001b[0m\u001b[0mn\u001b[0m\u001b[0;34m)\u001b[0m\u001b[0;34m\u001b[0m\u001b[0;34m\u001b[0m\u001b[0m\n\u001b[0m\u001b[1;32m     16\u001b[0m \u001b[0mnumber\u001b[0m\u001b[0;34m.\u001b[0m\u001b[0mappend\u001b[0m\u001b[0;34m(\u001b[0m\u001b[0mn\u001b[0m\u001b[0;34m)\u001b[0m\u001b[0;34m\u001b[0m\u001b[0;34m\u001b[0m\u001b[0m\n\u001b[1;32m     17\u001b[0m \u001b[0;34m\u001b[0m\u001b[0m\n",
            "\u001b[0;31mValueError\u001b[0m: invalid literal for int() with base 10: '3 45 32 5 7 8 4 44 5 90 1'"
          ]
        }
      ]
    },
    {
      "cell_type": "code",
      "source": [
        "# 연습문제 4.10번\n",
        "def distance(x1, y1, x2, y2):\n",
        "  distance = ((x1 - x2)**2 + (y1 - y2)**2)**0.5\n",
        "  return distance\n",
        "\n",
        "x1 = int(input(\"x1 좌표를 입력하시오 : \"))\n",
        "y1 = int(input(\"y1 좌표를 입력하시오 : \"))\n",
        "x2 = int(input(\"x2 좌표를 입력하시오 : \"))\n",
        "y2 = int(input(\"y2 좌표를 입력하시오 : \"))\n",
        "print(f\"두 점의 거리: {distance(x1, y1, x2, y2)}\")"
      ],
      "metadata": {
        "colab": {
          "base_uri": "https://localhost:8080/"
        },
        "id": "ej34RyeZY131",
        "outputId": "d01efcdd-d7ba-48a9-bda9-ab2cbcf86b71"
      },
      "execution_count": null,
      "outputs": [
        {
          "output_type": "stream",
          "name": "stdout",
          "text": [
            "x1 좌표를 입력하시오 : 0\n",
            "y1 좌표를 입력하시오 : 0\n",
            "x2 좌표를 입력하시오 : 3\n",
            "y2 좌표를 입력하시오 : 4\n",
            "두 점의 거리: 5.0\n"
          ]
        }
      ]
    },
    {
      "cell_type": "code",
      "source": [
        "# 연습문제 4.11번\n",
        "def triangle_area(x1, y1, x2, y2):\n",
        "  area = (x2 - x1) * (y2 - y1) / 2\n",
        "  return area\n",
        "\n",
        "x1 = int(input(\"x1 좌표를 입력하시오 : \"))\n",
        "y1 = int(input(\"y1 좌표를 입력하시오 : \"))\n",
        "x2 = int(input(\"x2 좌표를 입력하시오 : \"))\n",
        "y2 = int(input(\"y2 좌표를 입력하시오 : \"))\n",
        "\n",
        "print(f\"직각삼각형의 면적은 : {triangle_area(x1, y1, x2, y2)}\")"
      ],
      "metadata": {
        "colab": {
          "base_uri": "https://localhost:8080/"
        },
        "id": "GOS7insmbOYH",
        "outputId": "07bb66df-be29-46f4-ba61-adac1959d904"
      },
      "execution_count": null,
      "outputs": [
        {
          "output_type": "stream",
          "name": "stdout",
          "text": [
            "x1 좌표를 입력하시오 : 0\n",
            "y1 좌표를 입력하시오 : 0\n",
            "x2 좌표를 입력하시오 : 3\n",
            "y2 좌표를 입력하시오 : 4\n",
            "직각삼각형의 면적은 : 6.0\n"
          ]
        }
      ]
    },
    {
      "cell_type": "code",
      "source": [
        "# 연습문제 4.12번\n",
        "def cal_area(width, height):\n",
        "  area = width * height / 2\n",
        "  return area\n",
        "\n",
        "width = int(input(\"밑변을 입력하시오 : \"))\n",
        "height = int(input(\"높이를 입력하시오 : \"))\n",
        "print(f\"삼각형의 면적 : {cal_area(width, height)}\")"
      ],
      "metadata": {
        "colab": {
          "base_uri": "https://localhost:8080/"
        },
        "id": "dfGmcyh3yvF5",
        "outputId": "8ea56639-2bd5-4dd7-8ef2-d0227f928801"
      },
      "execution_count": null,
      "outputs": [
        {
          "output_type": "stream",
          "name": "stdout",
          "text": [
            "밑변을 입력하시오 : 20\n",
            "높이를 입력하시오 : 15\n",
            "삼각형의 면적 : 150.0\n"
          ]
        }
      ]
    },
    {
      "cell_type": "code",
      "source": [
        "# 연습문제 4.13번\n",
        "def cube(s): # 정육면체의 부피\n",
        "  cube_volume = s ** 3\n",
        "  return cube_volume\n",
        "\n",
        "def cuboid(w, h, l): # 직육면체의 부피\n",
        "  cuboid_volume = l * w * h\n",
        "  return cuboid_volume\n",
        "\n",
        "def cone(r, h): # 원뿔의 부피\n",
        "  cone_volume = (1/3) * 3.14 * (r**2) * h\n",
        "  return cone_volume\n",
        "\n",
        "def sphere(r): # 구의 부피\n",
        "  sphere_volume = (4/3) * 3.14 * (r**3)\n",
        "  return sphere_volume\n",
        "\n",
        "def cylinder(r, h): # 원기둥의 부피\n",
        "  cylinder_volume = 3.14 * (r**2) * h\n",
        "  return cylinder_volume\n",
        "\n",
        "print(cube(12))\n",
        "print(cube(20))\n",
        "print(cuboid(3, 5, 6))\n",
        "print(cone(20, 10))\n",
        "print(sphere(15))\n",
        "print(cylinder(20, 10))"
      ],
      "metadata": {
        "colab": {
          "base_uri": "https://localhost:8080/"
        },
        "id": "3OpzUZt8yLHr",
        "outputId": "bd6c28c6-e0a6-46b1-b331-1dda93adc7c1"
      },
      "execution_count": null,
      "outputs": [
        {
          "output_type": "stream",
          "name": "stdout",
          "text": [
            "1728\n",
            "8000\n",
            "90\n",
            "4186.666666666666\n",
            "14130.0\n",
            "12560.0\n"
          ]
        }
      ]
    },
    {
      "cell_type": "code",
      "source": [
        "# 연습문제 4.14번\n",
        "def sort3(num1, num2, num3):\n",
        "  a = []\n",
        "  a.append(num1)\n",
        "  a.append(num2)\n",
        "  a.append(num3)\n",
        "  a.sort()\n",
        "\n",
        "  return a[0], a[1], a[2]\n",
        "\n",
        "print(\"세 수를 입력하세요 : \")\n",
        "num1 = int(input())\n",
        "num2 = int(input())\n",
        "num3 = int(input())\n",
        "print(f\"정렬된 리스트는 다음과 같습니다: {sort3(num1, num2, num3)}\")"
      ],
      "metadata": {
        "colab": {
          "base_uri": "https://localhost:8080/",
          "height": 109
        },
        "id": "F7WI-3td2oDs",
        "outputId": "9edba0cb-6c93-4c06-8c22-a89eaa519199"
      },
      "execution_count": null,
      "outputs": [
        {
          "output_type": "error",
          "ename": "SyntaxError",
          "evalue": "invalid syntax (<ipython-input-16-7b4f39ff0ef7>, line 9)",
          "traceback": [
            "\u001b[0;36m  File \u001b[0;32m\"<ipython-input-16-7b4f39ff0ef7>\"\u001b[0;36m, line \u001b[0;32m9\u001b[0m\n\u001b[0;31m    return a[0] a[1] a[2]\u001b[0m\n\u001b[0m                ^\u001b[0m\n\u001b[0;31mSyntaxError\u001b[0m\u001b[0;31m:\u001b[0m invalid syntax\n"
          ]
        }
      ]
    }
  ]
}