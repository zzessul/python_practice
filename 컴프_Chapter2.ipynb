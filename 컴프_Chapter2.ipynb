{
  "nbformat": 4,
  "nbformat_minor": 0,
  "metadata": {
    "colab": {
      "provenance": [],
      "toc_visible": true,
      "authorship_tag": "ABX9TyNSSLV0bSzQZGeAe73eZ3d3",
      "include_colab_link": true
    },
    "kernelspec": {
      "name": "python3",
      "display_name": "Python 3"
    },
    "language_info": {
      "name": "python"
    }
  },
  "cells": [
    {
      "cell_type": "markdown",
      "metadata": {
        "id": "view-in-github",
        "colab_type": "text"
      },
      "source": [
        "<a href=\"https://colab.research.google.com/github/zzessul/python/blob/main/%EC%BB%B4%ED%94%84_Chapter2.ipynb\" target=\"_parent\"><img src=\"https://colab.research.google.com/assets/colab-badge.svg\" alt=\"Open In Colab\"/></a>"
      ]
    },
    {
      "cell_type": "code",
      "source": [
        "n = int(input(\"정수를 입력하세요 : \"))\n",
        "if 1<=n<=100 and n%2==0:\n",
        "  print(\"입력된 정수는 0에서 100의 범위 안에 있는 짝수인가요? True\")\n",
        "else:\n",
        "  print(\"입력된 정수는 0에서 100의 범위 안에 있는 짝수인가요? False\")"
      ],
      "metadata": {
        "colab": {
          "base_uri": "https://localhost:8080/"
        },
        "id": "pQ5UCC40q7JT",
        "outputId": "0bb5d7ed-4071-4219-e7f1-6b9894f8d332"
      },
      "execution_count": null,
      "outputs": [
        {
          "output_type": "stream",
          "name": "stdout",
          "text": [
            "정수를 입력하세요: 88\n",
            "입력된 정수는 0에서 100의 범위 안에 있는 짝수인가요? True\n"
          ]
        }
      ]
    },
    {
      "cell_type": "code",
      "source": [
        "print('0b101 & 0b110 =', bin(0b101 & 0b110))\n",
        "print('0b101 | 0b110 =', bin(0b101 | 0b110))\n",
        "print('0b101 ^ 0b110 =', bin(0b101 ^ 0b110))\n"
      ],
      "metadata": {
        "colab": {
          "base_uri": "https://localhost:8080/"
        },
        "id": "G5mk7RIGrupD",
        "outputId": "8d830afd-735d-417c-dcdc-22be63a28f0f"
      },
      "execution_count": null,
      "outputs": [
        {
          "output_type": "stream",
          "name": "stdout",
          "text": [
            "0b101 & 0b110 = 0b100\n",
            "0b101 | 0b110 = 0b111\n",
            "0b101 ^ 0b110 = 0b11\n"
          ]
        }
      ]
    },
    {
      "cell_type": "code",
      "source": [
        "n = int(input(\"정수를 입력하시오 : \"))\n",
        "print(n, \"의 2진수 값 :\", bin(n))\n",
        "print(n, \"의 2진수 값에 대한 비트단위 부정값 :\", bin(~n))"
      ],
      "metadata": {
        "colab": {
          "base_uri": "https://localhost:8080/"
        },
        "id": "Efim3BbyvEY-",
        "outputId": "acf3459d-2ecd-48d9-e6fb-ae5b16184dad"
      },
      "execution_count": null,
      "outputs": [
        {
          "output_type": "stream",
          "name": "stdout",
          "text": [
            "정수를 입력하시오 : 9\n",
            "9 의 2진수 값 : 0b1001\n",
            "9 의 2진수 값에 대한 비트단위 부정값 : -0b1010\n"
          ]
        }
      ]
    },
    {
      "cell_type": "code",
      "source": [
        "a = int(input(\"정수 a를 입력하시오 : \"))\n",
        "b = int(input(\"정수 b를 입력하시오 : \"))\n",
        "print(\"a / b의 몫 : \", a // b)\n",
        "print(\"a / b의 나머지 : \", a % b)"
      ],
      "metadata": {
        "colab": {
          "base_uri": "https://localhost:8080/"
        },
        "id": "BqezUw0EvmOb",
        "outputId": "18d4d21f-987d-4664-9d74-44e35a07851d"
      },
      "execution_count": null,
      "outputs": [
        {
          "output_type": "stream",
          "name": "stdout",
          "text": [
            "정수 a를 입력하시오: 202\n",
            "정수 b를 입력하시오: 50\n",
            "a / b의 몫:  4\n",
            "a / b의 나머지:  2\n"
          ]
        }
      ]
    },
    {
      "cell_type": "code",
      "source": [
        "n = int(input(\"세 자리 정수를 입력하세요 : \"))\n",
        "\n",
        "if 100 <= n <= 999:\n",
        "  print(\"백의 자리 :\", n // 100)\n",
        "  print(\"십의 자리 :\", n // 10 % 10)\n",
        "  print(\"일의 자리 :\", n % 10)"
      ],
      "metadata": {
        "colab": {
          "base_uri": "https://localhost:8080/"
        },
        "id": "ttti-XO6w1hZ",
        "outputId": "5c8a77a0-fa7e-42de-d185-24e952633a32"
      },
      "execution_count": null,
      "outputs": [
        {
          "output_type": "stream",
          "name": "stdout",
          "text": [
            "세 자리 정수를 입력하세요: 349\n",
            "백의 자리 : 3\n",
            "십의 자리 : 4\n",
            "일의 자리 : 9\n"
          ]
        }
      ]
    },
    {
      "cell_type": "code",
      "source": [
        "n = int(input(\"세 자리 정수를 입력하세요 : \"))\n",
        "print(n % 10)\n",
        "print(n // 10 % 10)\n",
        "print(n // 100)"
      ],
      "metadata": {
        "colab": {
          "base_uri": "https://localhost:8080/"
        },
        "id": "LCsqKMqKybwT",
        "outputId": "2bb542d7-8049-4e37-975f-43e3844635fa"
      },
      "execution_count": null,
      "outputs": [
        {
          "output_type": "stream",
          "name": "stdout",
          "text": [
            "세 자리 정수를 입력하세요 :349\n",
            "9\n",
            "4\n",
            "3\n"
          ]
        }
      ]
    }
  ]
}