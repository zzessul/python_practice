{
  "nbformat": 4,
  "nbformat_minor": 0,
  "metadata": {
    "colab": {
      "provenance": [],
      "authorship_tag": "ABX9TyPNTegBzIGkH1Ns9bLlJrRf",
      "include_colab_link": true
    },
    "kernelspec": {
      "name": "python3",
      "display_name": "Python 3"
    },
    "language_info": {
      "name": "python"
    }
  },
  "cells": [
    {
      "cell_type": "markdown",
      "metadata": {
        "id": "view-in-github",
        "colab_type": "text"
      },
      "source": [
        "<a href=\"https://colab.research.google.com/github/zzessul/python/blob/main/%EC%BB%B4%ED%94%84_Chapter3.ipynb\" target=\"_parent\"><img src=\"https://colab.research.google.com/assets/colab-badge.svg\" alt=\"Open In Colab\"/></a>"
      ]
    },
    {
      "cell_type": "code",
      "execution_count": null,
      "metadata": {
        "colab": {
          "base_uri": "https://localhost:8080/"
        },
        "id": "BCcNo3CJzJDL",
        "outputId": "844c68cb-1297-4ce7-82fb-69e78dac56c1"
      },
      "outputs": [
        {
          "output_type": "stream",
          "name": "stdout",
          "text": [
            "game_score =1300\n",
            "당신은 고수입니다\n"
          ]
        }
      ],
      "source": [
        "game_score = int(input(\"game_score =\"))\n",
        "\n",
        "if game_score >= 1000:\n",
        "  print(\"당신은 고수입니다\")"
      ]
    },
    {
      "cell_type": "code",
      "source": [
        "num_a = 300\n",
        "num_b = 300\n",
        "\n",
        "print(\"num_a = 300, num_b = 300\")\n",
        "\n",
        "if num_a == num_b:\n",
        "  print(\"두 값이 일치합니다.\")"
      ],
      "metadata": {
        "colab": {
          "base_uri": "https://localhost:8080/"
        },
        "id": "hzIi6tHl0PtJ",
        "outputId": "9250a9e7-0d1f-4bd8-9b12-c3cd1ccd7106"
      },
      "execution_count": null,
      "outputs": [
        {
          "output_type": "stream",
          "name": "stdout",
          "text": [
            "num_a = 300, num_b = 300\n",
            "두 값이 일치합니다.\n"
          ]
        }
      ]
    },
    {
      "cell_type": "code",
      "source": [
        "n = int(input(\"정수를 입력하세요 :\"))\n",
        "\n",
        "if -100 <= n <= 100:\n",
        "  print(\"x =\", n)\n",
        "  if n > 0:\n",
        "    print(n, \"은(는) 자연수입니다.\")\n",
        "else:\n",
        "  None"
      ],
      "metadata": {
        "colab": {
          "base_uri": "https://localhost:8080/"
        },
        "id": "-4q2R3JN040r",
        "outputId": "7b683367-ceaf-400d-9a51-5b317478ea08"
      },
      "execution_count": null,
      "outputs": [
        {
          "output_type": "stream",
          "name": "stdout",
          "text": [
            "정수를 입력하세요 :-10\n",
            "x = -10\n"
          ]
        }
      ]
    },
    {
      "cell_type": "code",
      "source": [
        "game_score = int(input(\"게임점수를 입력하시오 :\"))\n",
        "\n",
        "print(\"game_score =\", game_score)\n",
        "if game_score >= 1000:\n",
        "  print(\"고수입니다.\")\n",
        "else:\n",
        "  print(\"입문자입니다.\")"
      ],
      "metadata": {
        "colab": {
          "base_uri": "https://localhost:8080/"
        },
        "id": "UXV14NVa16bH",
        "outputId": "93df1594-ccb5-4717-ff73-50780118f5ee"
      },
      "execution_count": null,
      "outputs": [
        {
          "output_type": "stream",
          "name": "stdout",
          "text": [
            "게임점수를 입력하시오 :1300\n",
            "game_score = 1300\n",
            "고수입니다.\n"
          ]
        }
      ]
    },
    {
      "cell_type": "code",
      "source": [
        "num_a = int(input(\"한 정수를 입력하시오 :\"))\n",
        "num_b = int(input(\"다른 정수를 입력하시오 :\"))\n",
        "\n",
        "if num_a == num_b:\n",
        "  print(\"두 값이 일치합니다.\")\n",
        "else:\n",
        "  print(\"두 값이 일치하지 않습니다.\")"
      ],
      "metadata": {
        "colab": {
          "base_uri": "https://localhost:8080/"
        },
        "id": "KT59qOHG2UHl",
        "outputId": "d9c992ec-b866-4591-8a2f-6b635c114db2"
      },
      "execution_count": null,
      "outputs": [
        {
          "output_type": "stream",
          "name": "stdout",
          "text": [
            "한 정수를 입력하시오 :300\n",
            "다른 정수를 입력하시오 :300\n",
            "두 값이 일치합니다.\n"
          ]
        }
      ]
    },
    {
      "cell_type": "code",
      "source": [
        "a = int(input(\"당신은 성인인가요(성인이면 1, 미성년이면 0):\"))\n",
        "\n",
        "if a == 1:\n",
        "  b = int(input(\"결혼을 하셨나요(기혼이면 1, 미혼이면 0):\"))\n",
        "  if b == 1:\n",
        "    print(\"당신은 결혼한 성인입니다.\")\n",
        "  else:\n",
        "    print(\"당신은 결혼하지 않은 성인입니다.\")\n",
        "else:\n",
        "  print(\"당신은 미성년자입니다.\")"
      ],
      "metadata": {
        "colab": {
          "base_uri": "https://localhost:8080/"
        },
        "id": "V6mEFnQH4M1S",
        "outputId": "566ffe4e-33c8-4218-ebe8-9fffb05335af"
      },
      "execution_count": null,
      "outputs": [
        {
          "output_type": "stream",
          "name": "stdout",
          "text": [
            "당신은 성인인가요(성인이면 1, 미성년이면 0):1\n",
            "결혼을 하셨나요(기혼이면 1, 미혼이면 0):0\n",
            "당신은 결혼하지 않은 성인입니다.\n"
          ]
        }
      ]
    },
    {
      "cell_type": "code",
      "source": [
        "num = int(input(\"num = \"))\n",
        "\n",
        "if 1 <= num and num <= 10:\n",
        "  print(True)"
      ],
      "metadata": {
        "colab": {
          "base_uri": "https://localhost:8080/"
        },
        "id": "ndiuLHJd5WpK",
        "outputId": "c1cc7ccf-96c1-4556-dee6-f29b3413083a"
      },
      "execution_count": null,
      "outputs": [
        {
          "output_type": "stream",
          "name": "stdout",
          "text": [
            "num = 2\n",
            "True\n"
          ]
        }
      ]
    },
    {
      "cell_type": "code",
      "source": [
        "age = int(input(\"age = \"))\n",
        "\n",
        "if 10 < age and age < 19:\n",
        "  print(\"청소년입니다.\")"
      ],
      "metadata": {
        "colab": {
          "base_uri": "https://localhost:8080/"
        },
        "id": "xd4KBAbg8Vud",
        "outputId": "1aa4b6e0-dd2e-4750-a7aa-d9549a73a17b"
      },
      "execution_count": null,
      "outputs": [
        {
          "output_type": "stream",
          "name": "stdout",
          "text": [
            "age = 12\n",
            "청소년입니다.\n"
          ]
        }
      ]
    },
    {
      "cell_type": "code",
      "source": [
        "speed = int(input(\"자동차의 속도를 입력하세요(단위 : km/h ): \"))\n",
        "\n",
        "if speed >= 100:\n",
        "  print('고속')\n",
        "elif speed >= 60:\n",
        "  print('중속')\n",
        "else:\n",
        "  print('저속')"
      ],
      "metadata": {
        "colab": {
          "base_uri": "https://localhost:8080/"
        },
        "id": "yx1TcGroBY0i",
        "outputId": "5eceff16-251a-4439-e597-6fbc27b5e053"
      },
      "execution_count": null,
      "outputs": [
        {
          "output_type": "stream",
          "name": "stdout",
          "text": [
            "자동차의 속도를 입력하세요(단위 : km/h ): 130\n",
            "고속\n"
          ]
        }
      ]
    },
    {
      "cell_type": "code",
      "source": [
        "n = int(input(\"미세먼지 농도를 입력하세요(단위 : microgram/m^3): \"))\n",
        "\n",
        "if n >= 76:\n",
        "  print('매우 나쁨')\n",
        "elif n >= 36:\n",
        "  print('나쁨')\n",
        "elif n >= 16:\n",
        "  print('보통')\n",
        "else:\n",
        "  print('좋음')"
      ],
      "metadata": {
        "colab": {
          "base_uri": "https://localhost:8080/"
        },
        "id": "bOzzox1JBY9v",
        "outputId": "1d458c49-c091-484f-f901-4579880014c3"
      },
      "execution_count": null,
      "outputs": [
        {
          "output_type": "stream",
          "name": "stdout",
          "text": [
            "미세먼지 농도를 입력하세요(단위 : microgram/m^3): 33\n",
            "보통\n"
          ]
        }
      ]
    },
    {
      "cell_type": "code",
      "source": [
        "for i in range(5):\n",
        "  print(\"Hello, Python!\")"
      ],
      "metadata": {
        "colab": {
          "base_uri": "https://localhost:8080/"
        },
        "id": "b4NQh_IoEgjQ",
        "outputId": "85188311-04d2-447a-858d-5ecde01f52d6"
      },
      "execution_count": null,
      "outputs": [
        {
          "output_type": "stream",
          "name": "stdout",
          "text": [
            "Hello, Python!\n",
            "Hello, Python!\n",
            "Hello, Python!\n",
            "Hello, Python!\n",
            "Hello, Python!\n"
          ]
        }
      ]
    },
    {
      "cell_type": "code",
      "source": [
        "for i in range(5):\n",
        "  print(i)"
      ],
      "metadata": {
        "colab": {
          "base_uri": "https://localhost:8080/"
        },
        "id": "plS7_kICGOQF",
        "outputId": "cb8f3bf2-0d31-45e5-ca0c-13ce1066ae60"
      },
      "execution_count": null,
      "outputs": [
        {
          "output_type": "stream",
          "name": "stdout",
          "text": [
            "0\n",
            "1\n",
            "2\n",
            "3\n",
            "4\n"
          ]
        }
      ]
    },
    {
      "cell_type": "code",
      "source": [
        "list(range(1, 101))"
      ],
      "metadata": {
        "colab": {
          "base_uri": "https://localhost:8080/"
        },
        "id": "FgeX9I1SIQow",
        "outputId": "b04c2ad5-eaf3-45c8-9665-ed453b3579d8"
      },
      "execution_count": null,
      "outputs": [
        {
          "output_type": "execute_result",
          "data": {
            "text/plain": [
              "[1,\n",
              " 2,\n",
              " 3,\n",
              " 4,\n",
              " 5,\n",
              " 6,\n",
              " 7,\n",
              " 8,\n",
              " 9,\n",
              " 10,\n",
              " 11,\n",
              " 12,\n",
              " 13,\n",
              " 14,\n",
              " 15,\n",
              " 16,\n",
              " 17,\n",
              " 18,\n",
              " 19,\n",
              " 20,\n",
              " 21,\n",
              " 22,\n",
              " 23,\n",
              " 24,\n",
              " 25,\n",
              " 26,\n",
              " 27,\n",
              " 28,\n",
              " 29,\n",
              " 30,\n",
              " 31,\n",
              " 32,\n",
              " 33,\n",
              " 34,\n",
              " 35,\n",
              " 36,\n",
              " 37,\n",
              " 38,\n",
              " 39,\n",
              " 40,\n",
              " 41,\n",
              " 42,\n",
              " 43,\n",
              " 44,\n",
              " 45,\n",
              " 46,\n",
              " 47,\n",
              " 48,\n",
              " 49,\n",
              " 50,\n",
              " 51,\n",
              " 52,\n",
              " 53,\n",
              " 54,\n",
              " 55,\n",
              " 56,\n",
              " 57,\n",
              " 58,\n",
              " 59,\n",
              " 60,\n",
              " 61,\n",
              " 62,\n",
              " 63,\n",
              " 64,\n",
              " 65,\n",
              " 66,\n",
              " 67,\n",
              " 68,\n",
              " 69,\n",
              " 70,\n",
              " 71,\n",
              " 72,\n",
              " 73,\n",
              " 74,\n",
              " 75,\n",
              " 76,\n",
              " 77,\n",
              " 78,\n",
              " 79,\n",
              " 80,\n",
              " 81,\n",
              " 82,\n",
              " 83,\n",
              " 84,\n",
              " 85,\n",
              " 86,\n",
              " 87,\n",
              " 88,\n",
              " 89,\n",
              " 90,\n",
              " 91,\n",
              " 92,\n",
              " 93,\n",
              " 94,\n",
              " 95,\n",
              " 96,\n",
              " 97,\n",
              " 98,\n",
              " 99,\n",
              " 100]"
            ]
          },
          "metadata": {},
          "execution_count": 34
        }
      ]
    },
    {
      "cell_type": "code",
      "source": [
        "list(range(2, 101, 2))"
      ],
      "metadata": {
        "colab": {
          "base_uri": "https://localhost:8080/"
        },
        "id": "twOaYiY8Ib6h",
        "outputId": "1c5b22b6-5656-452f-bcbc-4de2692479fb"
      },
      "execution_count": null,
      "outputs": [
        {
          "output_type": "execute_result",
          "data": {
            "text/plain": [
              "[2,\n",
              " 4,\n",
              " 6,\n",
              " 8,\n",
              " 10,\n",
              " 12,\n",
              " 14,\n",
              " 16,\n",
              " 18,\n",
              " 20,\n",
              " 22,\n",
              " 24,\n",
              " 26,\n",
              " 28,\n",
              " 30,\n",
              " 32,\n",
              " 34,\n",
              " 36,\n",
              " 38,\n",
              " 40,\n",
              " 42,\n",
              " 44,\n",
              " 46,\n",
              " 48,\n",
              " 50,\n",
              " 52,\n",
              " 54,\n",
              " 56,\n",
              " 58,\n",
              " 60,\n",
              " 62,\n",
              " 64,\n",
              " 66,\n",
              " 68,\n",
              " 70,\n",
              " 72,\n",
              " 74,\n",
              " 76,\n",
              " 78,\n",
              " 80,\n",
              " 82,\n",
              " 84,\n",
              " 86,\n",
              " 88,\n",
              " 90,\n",
              " 92,\n",
              " 94,\n",
              " 96,\n",
              " 98,\n",
              " 100]"
            ]
          },
          "metadata": {},
          "execution_count": 37
        }
      ]
    },
    {
      "cell_type": "code",
      "source": [
        "list(range(1, 100, 2))"
      ],
      "metadata": {
        "colab": {
          "base_uri": "https://localhost:8080/"
        },
        "id": "AnRS2EpCIupD",
        "outputId": "38141418-6dde-474b-fd34-dad3834ace7a"
      },
      "execution_count": null,
      "outputs": [
        {
          "output_type": "execute_result",
          "data": {
            "text/plain": [
              "[1,\n",
              " 3,\n",
              " 5,\n",
              " 7,\n",
              " 9,\n",
              " 11,\n",
              " 13,\n",
              " 15,\n",
              " 17,\n",
              " 19,\n",
              " 21,\n",
              " 23,\n",
              " 25,\n",
              " 27,\n",
              " 29,\n",
              " 31,\n",
              " 33,\n",
              " 35,\n",
              " 37,\n",
              " 39,\n",
              " 41,\n",
              " 43,\n",
              " 45,\n",
              " 47,\n",
              " 49,\n",
              " 51,\n",
              " 53,\n",
              " 55,\n",
              " 57,\n",
              " 59,\n",
              " 61,\n",
              " 63,\n",
              " 65,\n",
              " 67,\n",
              " 69,\n",
              " 71,\n",
              " 73,\n",
              " 75,\n",
              " 77,\n",
              " 79,\n",
              " 81,\n",
              " 83,\n",
              " 85,\n",
              " 87,\n",
              " 89,\n",
              " 91,\n",
              " 93,\n",
              " 95,\n",
              " 97,\n",
              " 99]"
            ]
          },
          "metadata": {},
          "execution_count": 38
        }
      ]
    },
    {
      "cell_type": "code",
      "source": [
        "list(range(-99, 0))"
      ],
      "metadata": {
        "colab": {
          "base_uri": "https://localhost:8080/"
        },
        "id": "Ghtew4OUIz8u",
        "outputId": "7f9cda0b-0c15-407d-b834-b571a054c199"
      },
      "execution_count": null,
      "outputs": [
        {
          "output_type": "execute_result",
          "data": {
            "text/plain": [
              "[-99,\n",
              " -98,\n",
              " -97,\n",
              " -96,\n",
              " -95,\n",
              " -94,\n",
              " -93,\n",
              " -92,\n",
              " -91,\n",
              " -90,\n",
              " -89,\n",
              " -88,\n",
              " -87,\n",
              " -86,\n",
              " -85,\n",
              " -84,\n",
              " -83,\n",
              " -82,\n",
              " -81,\n",
              " -80,\n",
              " -79,\n",
              " -78,\n",
              " -77,\n",
              " -76,\n",
              " -75,\n",
              " -74,\n",
              " -73,\n",
              " -72,\n",
              " -71,\n",
              " -70,\n",
              " -69,\n",
              " -68,\n",
              " -67,\n",
              " -66,\n",
              " -65,\n",
              " -64,\n",
              " -63,\n",
              " -62,\n",
              " -61,\n",
              " -60,\n",
              " -59,\n",
              " -58,\n",
              " -57,\n",
              " -56,\n",
              " -55,\n",
              " -54,\n",
              " -53,\n",
              " -52,\n",
              " -51,\n",
              " -50,\n",
              " -49,\n",
              " -48,\n",
              " -47,\n",
              " -46,\n",
              " -45,\n",
              " -44,\n",
              " -43,\n",
              " -42,\n",
              " -41,\n",
              " -40,\n",
              " -39,\n",
              " -38,\n",
              " -37,\n",
              " -36,\n",
              " -35,\n",
              " -34,\n",
              " -33,\n",
              " -32,\n",
              " -31,\n",
              " -30,\n",
              " -29,\n",
              " -28,\n",
              " -27,\n",
              " -26,\n",
              " -25,\n",
              " -24,\n",
              " -23,\n",
              " -22,\n",
              " -21,\n",
              " -20,\n",
              " -19,\n",
              " -18,\n",
              " -17,\n",
              " -16,\n",
              " -15,\n",
              " -14,\n",
              " -13,\n",
              " -12,\n",
              " -11,\n",
              " -10,\n",
              " -9,\n",
              " -8,\n",
              " -7,\n",
              " -6,\n",
              " -5,\n",
              " -4,\n",
              " -3,\n",
              " -2,\n",
              " -1]"
            ]
          },
          "metadata": {},
          "execution_count": 39
        }
      ]
    },
    {
      "cell_type": "code",
      "source": [
        "name = input(\"이름을 입력하시오 : \")\n",
        "height = int(input(\"키를 입력하시오(단위 cm) : \"))\n",
        "\n",
        "if height < 140:\n",
        "  print(name, \"님은 놀이기구를 탈 수 없습니다.\")\n",
        "else:\n",
        "  print(name, \"님은 놀이기구를 탈 수 있습니다.\")"
      ],
      "metadata": {
        "colab": {
          "base_uri": "https://localhost:8080/"
        },
        "id": "A4m_WqO2JHXC",
        "outputId": "e006fa7e-fa46-44cc-dc3e-d5641f4360a9"
      },
      "execution_count": null,
      "outputs": [
        {
          "output_type": "stream",
          "name": "stdout",
          "text": [
            "이름을 입력하시오 : 승주\n",
            "키를 입력하시오(단위 cm) : 132\n",
            "승주 님은 놀이기구를 탈 수 없습니다.\n"
          ]
        }
      ]
    },
    {
      "cell_type": "code",
      "source": [
        "age = int(input(\"나이를 입력하시오 : \"))\n",
        "height = int(input(\"키를 입력하시오(단위 cm) : \"))\n",
        "\n",
        "if age >= 19 and height >= 150:\n",
        "  print(\"입장할 수 있습니다.\")\n",
        "else:\n",
        "  print(\"입장할 수 없습니다.\")"
      ],
      "metadata": {
        "colab": {
          "base_uri": "https://localhost:8080/"
        },
        "id": "Fa_qdeDPJ82r",
        "outputId": "8730df33-52df-4bd7-ffd9-58a731e43545"
      },
      "execution_count": null,
      "outputs": [
        {
          "output_type": "stream",
          "name": "stdout",
          "text": [
            "나이를 입력하시오 : 16\n",
            "키를 입력하시오(단위 cm) : 162\n",
            "입장할 수 없습니다.\n"
          ]
        }
      ]
    },
    {
      "cell_type": "code",
      "source": [
        "age = int(input(\"나이를 입력하시오 : \"))\n",
        "\n",
        "if age >= 20:\n",
        "  print(\"Adult\")\n",
        "elif age >= 10:\n",
        "  print(\"Youth\")\n",
        "else:\n",
        "  print(\"Kid\")"
      ],
      "metadata": {
        "colab": {
          "base_uri": "https://localhost:8080/"
        },
        "id": "z2Pk4NXOKpzQ",
        "outputId": "dd593293-4622-47c4-a23a-3fa19a6a40ce"
      },
      "execution_count": null,
      "outputs": [
        {
          "output_type": "stream",
          "name": "stdout",
          "text": [
            "나이를 입력하시오 : 9\n",
            "Kid\n"
          ]
        }
      ]
    },
    {
      "cell_type": "code",
      "source": [
        "num1, num2 = input(\"두 정수를 입력하시오 : \").split()\n",
        "\n",
        "if int(num1) > int(num2):\n",
        "  print(num2, num1)\n",
        "else:\n",
        "  print(num1, num2)"
      ],
      "metadata": {
        "colab": {
          "base_uri": "https://localhost:8080/"
        },
        "id": "DbYi6ATVLM26",
        "outputId": "140f3e86-71a4-4932-c87c-bd80d794680c"
      },
      "execution_count": null,
      "outputs": [
        {
          "output_type": "stream",
          "name": "stdout",
          "text": [
            "두 정수를 입력하시오 : 99 12\n",
            "12 99\n"
          ]
        }
      ]
    },
    {
      "cell_type": "code",
      "source": [
        "s = 0\n",
        "\n",
        "for i in range(1, 101):\n",
        "  s = s + i\n",
        "\n",
        "print(\"1에서 100까지의 합:\", s)"
      ],
      "metadata": {
        "colab": {
          "base_uri": "https://localhost:8080/"
        },
        "id": "bn3OcvRv9C71",
        "outputId": "89a6a082-697e-458f-86a0-00fcfdf3c4af"
      },
      "execution_count": null,
      "outputs": [
        {
          "output_type": "stream",
          "name": "stdout",
          "text": [
            "1에서 100까지의 합: 5050\n"
          ]
        }
      ]
    },
    {
      "cell_type": "code",
      "source": [
        "s = 0\n",
        "\n",
        "for i in range(2, 101, 2):\n",
        "  s = s + i\n",
        "\n",
        "print(\"1에서 100까지 정수 중에서 짝수의 합:\", s)"
      ],
      "metadata": {
        "colab": {
          "base_uri": "https://localhost:8080/"
        },
        "id": "le_jJzwt9iMk",
        "outputId": "db204a4c-d447-4fb3-a212-6b8c45a3094c"
      },
      "execution_count": null,
      "outputs": [
        {
          "output_type": "stream",
          "name": "stdout",
          "text": [
            "1에서 100까지 정수 중에서 짝수의 합: 2550\n"
          ]
        }
      ]
    },
    {
      "cell_type": "code",
      "source": [
        "s = 0\n",
        "\n",
        "for i in range(1, 100, 2):\n",
        "  s = s + i\n",
        "\n",
        "print(\"1에서 100까지 정수 중에서 홀수의 합:\", s)"
      ],
      "metadata": {
        "colab": {
          "base_uri": "https://localhost:8080/"
        },
        "id": "J-rKZVWg-Wnj",
        "outputId": "2903c8ae-bbc6-418d-d211-61b298e0285c"
      },
      "execution_count": null,
      "outputs": [
        {
          "output_type": "stream",
          "name": "stdout",
          "text": [
            "1에서 100까지 정수 중에서 홀수의 합: 2500\n"
          ]
        }
      ]
    },
    {
      "cell_type": "code",
      "source": [
        "num1, num2, num3 = input(\"세 정수를 입력하시오 : \").split()\n",
        "\n",
        "if int(num1) > int(num2) > int(num3):\n",
        "  print(num3, num2, num1)\n",
        "elif int(num1) > int(num3) > int(num2):\n",
        "  print(num2, num3, num1)\n",
        "elif int(num2) > int(num1) > int(num3):\n",
        "  print(num3, num1, num2)\n",
        "elif int(num2) > int(num3) > int(num1):\n",
        "  print(num1, num3, num2)\n",
        "elif int(num3) > int(num2) > int(num1):\n",
        "  print(num1, num2, num3)\n",
        "else:\n",
        "  print(num2, num1, num3)"
      ],
      "metadata": {
        "colab": {
          "base_uri": "https://localhost:8080/"
        },
        "id": "mGpDIw5T_Cny",
        "outputId": "b9038720-eb89-476c-bce5-3917eb7218a4"
      },
      "execution_count": null,
      "outputs": [
        {
          "output_type": "stream",
          "name": "stdout",
          "text": [
            "세 정수를 입력하시오 : 99 12 4\n",
            "4 12 99\n"
          ]
        }
      ]
    },
    {
      "cell_type": "code",
      "source": [
        "game_score = int(input(\"게임점수를 입력하시오 : \"))\n",
        "\n",
        "if game_score >= 1000:\n",
        "  print(\"고수입니다.\")\n",
        "else:\n",
        "  print(\"입문자입니다.\")"
      ],
      "metadata": {
        "colab": {
          "base_uri": "https://localhost:8080/"
        },
        "id": "KwVh9wluCinh",
        "outputId": "61500ffa-7def-44ad-c1e5-aef0c6d7ffad"
      },
      "execution_count": null,
      "outputs": [
        {
          "output_type": "stream",
          "name": "stdout",
          "text": [
            "게임점수를 입력하시오 : 990\n",
            "입문자입니다.\n"
          ]
        }
      ]
    },
    {
      "cell_type": "code",
      "source": [
        "x, y = input(\"점의 좌표 x, y를 입력하시오 : \").split()\n",
        "x = int(x)\n",
        "y = int(y)\n",
        "\n",
        "if x > 0:\n",
        "  if y > 0:\n",
        "    print(\"1사분면에 있음\")\n",
        "  elif y < 0:\n",
        "    print(\"4사분면에 있음\")\n",
        "  else:\n",
        "    None\n",
        "elif x < 0:\n",
        "  if y > 0:\n",
        "    print(\"2사분면에 있음\")\n",
        "  elif y < 0:\n",
        "    print(\"3사분면에 있음\")\n",
        "  else:\n",
        "    None\n",
        "else:\n",
        "  None"
      ],
      "metadata": {
        "colab": {
          "base_uri": "https://localhost:8080/"
        },
        "id": "yJ68o3T3DENp",
        "outputId": "ec6136ad-2fd4-40be-d1cc-eee3224262f7"
      },
      "execution_count": null,
      "outputs": [
        {
          "output_type": "stream",
          "name": "stdout",
          "text": [
            "점의 좌표 x, y를 입력하시오 : -2 -4\n",
            "3사분면에 있음\n"
          ]
        }
      ]
    },
    {
      "cell_type": "code",
      "source": [
        "n = int(input(\"정수를 입력하시오 : \"))\n",
        "\n",
        "if n % 2 == 0:\n",
        "  print(n, \"는(은) 2(으)로 나누어집니다.\")\n",
        "else:\n",
        "  print(n, \"는(은) 2(으)로 나누어지지 않습니다.\")\n",
        "\n",
        "if n % 3 == 0:\n",
        "  print(n, \"는(은) 3(으)로 나누어집니다.\")\n",
        "else:\n",
        "  print(n, \"는(은) 3(으)로 나누어지지 않습니다.\")\n",
        "\n",
        "if n % 2 == 0 and n % 3 == 0:\n",
        "  print(n, \"는(은) 2와(과) 3 모두로 나누어집니다.\")\n",
        "else:\n",
        "  print(n, \"는(은) 2와(과) 3 모두로 나누어지지 않습니다.\")\n"
      ],
      "metadata": {
        "colab": {
          "base_uri": "https://localhost:8080/"
        },
        "id": "LacoOKwVGK6s",
        "outputId": "f6863255-cc10-45d4-f4ad-ab9d71b9dce9"
      },
      "execution_count": null,
      "outputs": [
        {
          "output_type": "stream",
          "name": "stdout",
          "text": [
            "정수를 입력하시오 : 12\n",
            "12 는(은) 2(으)로 나누어집니다.\n",
            "12 는(은) 3(으)로 나누어집니다.\n",
            "12 는(은) 2와(과) 3 모두로 나누어집니다.\n"
          ]
        }
      ]
    },
    {
      "cell_type": "code",
      "source": [
        "a, b = input(\"두 정수를 입력하시오 : \").split()\n",
        "a = int(a)\n",
        "b = int(b)\n",
        "\n",
        "if a % b == 0:\n",
        "  print(a, \"는(은)\", b, \"의 배수입니다.\")\n",
        "else:\n",
        "  print(a, \"는(은)\", b, \"의 배수가 아닙니다.\")"
      ],
      "metadata": {
        "colab": {
          "base_uri": "https://localhost:8080/"
        },
        "id": "L5feRfZnIHjg",
        "outputId": "0f722a7d-11b0-47fd-98f9-c180f2eb50f3"
      },
      "execution_count": null,
      "outputs": [
        {
          "output_type": "stream",
          "name": "stdout",
          "text": [
            "두 정수를 입력하시오 : 15 5\n",
            "15 는(은) 5 의 배수입니다.\n"
          ]
        }
      ]
    },
    {
      "cell_type": "code",
      "source": [
        "x, y = input(\"점의 좌표 x, y를 입력하시오 : \").split()\n",
        "x = int(x)\n",
        "y = int(y)\n",
        "\n",
        "if (x*x + y*y)**0.5 > 5:\n",
        "  print(\"원의 외부에 있음\")\n",
        "else:\n",
        "  print(\"원의 내부에 있음\")"
      ],
      "metadata": {
        "colab": {
          "base_uri": "https://localhost:8080/"
        },
        "id": "g5zSV53_toRr",
        "outputId": "397e7fbd-4920-4411-8ef5-d836c231496b"
      },
      "execution_count": null,
      "outputs": [
        {
          "output_type": "stream",
          "name": "stdout",
          "text": [
            "점의 좌표 x, y를 입력하시오 : 7 9\n",
            "원의 외부에 있음\n"
          ]
        }
      ]
    },
    {
      "cell_type": "code",
      "source": [
        "alphabet = input(\"알파벳을 입력하시오 : \")\n",
        "\n",
        "if alphabet in ['a', 'e', 'i', 'o', 'u']:\n",
        "  print(alphabet, \"(은)는 모음입니다.\")\n",
        "else:\n",
        "  print(alphabet, \"(은)는 자음입니다.\")"
      ],
      "metadata": {
        "colab": {
          "base_uri": "https://localhost:8080/"
        },
        "id": "RTbRpVkNTANj",
        "outputId": "6d35c34a-7202-4011-c2f2-16d521c490ad"
      },
      "execution_count": null,
      "outputs": [
        {
          "output_type": "stream",
          "name": "stdout",
          "text": [
            "알파벳을 입력하시오 : i\n",
            "i (은)는 모음입니다.\n"
          ]
        }
      ]
    },
    {
      "cell_type": "code",
      "source": [
        "my_number = list(map(int, input(\"세 복권번호를 입력하시오 : \").split()))\n",
        "count = 0\n",
        "\n",
        "for i in range(3):\n",
        "  if my_number[i] == 2 or my_number[i] == 3 or my_number[i] == 9:\n",
        "    count += 1\n",
        "\n",
        "if count == 3:\n",
        "  print(\"상금 1억 원\")\n",
        "elif count == 2:\n",
        "  print(\"상금 1천만 원\")\n",
        "elif count == 1:\n",
        "  print(\"상금 1만 원\")\n",
        "else:\n",
        "  print(\"다음 기회에...\")"
      ],
      "metadata": {
        "colab": {
          "base_uri": "https://localhost:8080/"
        },
        "id": "QimaE5-MV4Yc",
        "outputId": "a37c074a-7743-4c37-b21f-00a55a8bbc12"
      },
      "execution_count": null,
      "outputs": [
        {
          "output_type": "stream",
          "name": "stdout",
          "text": [
            "세 복권번호를 입력하시오 : 1 2 9\n",
            "상금 1천만 원\n"
          ]
        }
      ]
    },
    {
      "cell_type": "code",
      "source": [
        "for i in range(1, 10):\n",
        "  print(f\"2 * {i} = {2*i}\")"
      ],
      "metadata": {
        "colab": {
          "base_uri": "https://localhost:8080/"
        },
        "id": "nbDYZ1kXbI_u",
        "outputId": "b0068b2e-9d2a-4bc7-8393-c0357098d45b"
      },
      "execution_count": null,
      "outputs": [
        {
          "output_type": "stream",
          "name": "stdout",
          "text": [
            "2 * 1 = 2\n",
            "2 * 2 = 4\n",
            "2 * 3 = 6\n",
            "2 * 4 = 8\n",
            "2 * 5 = 10\n",
            "2 * 6 = 12\n",
            "2 * 7 = 14\n",
            "2 * 8 = 16\n",
            "2 * 9 = 18\n"
          ]
        }
      ]
    },
    {
      "cell_type": "code",
      "source": [
        "print('Morning' < 'morning')\n",
        "print('A' > 'B')"
      ],
      "metadata": {
        "colab": {
          "base_uri": "https://localhost:8080/"
        },
        "id": "-OvjYtOAb_Qz",
        "outputId": "65f3e505-b8c5-4304-e2de-35cb74d93b9e"
      },
      "execution_count": null,
      "outputs": [
        {
          "output_type": "stream",
          "name": "stdout",
          "text": [
            "True\n",
            "False\n"
          ]
        }
      ]
    },
    {
      "cell_type": "code",
      "source": [
        "i = 1\n",
        "\n",
        "while i < 10:\n",
        "  print(f\"2 * {i} = {2*i}\")\n",
        "  i += 1"
      ],
      "metadata": {
        "colab": {
          "base_uri": "https://localhost:8080/"
        },
        "id": "blTY644YcXZG",
        "outputId": "7f7f1710-31e0-40fe-9677-fc22b5780939"
      },
      "execution_count": null,
      "outputs": [
        {
          "output_type": "stream",
          "name": "stdout",
          "text": [
            "2 * 1 = 2\n",
            "2 * 2 = 4\n",
            "2 * 3 = 6\n",
            "2 * 4 = 8\n",
            "2 * 5 = 10\n",
            "2 * 6 = 12\n",
            "2 * 7 = 14\n",
            "2 * 8 = 16\n",
            "2 * 9 = 18\n"
          ]
        }
      ]
    },
    {
      "cell_type": "code",
      "source": [
        "num = int(input(\"1에서 9까지의 수를 입력하세요: \"))\n",
        "\n",
        "if num < 1 or num > 9:\n",
        "  num = int(input(\"1에서 9까지의 수를 다시 입력하세요: \"))\n",
        "\n",
        "if 1 <= num <= 9:\n",
        "  for i in range(1, 10):\n",
        "    print(f\"{num} * {i} = {num*i}\")"
      ],
      "metadata": {
        "colab": {
          "base_uri": "https://localhost:8080/"
        },
        "id": "QsQ3cXxAdURy",
        "outputId": "c39d1850-d485-48b3-e20f-90a0d5b4435b"
      },
      "execution_count": null,
      "outputs": [
        {
          "output_type": "stream",
          "name": "stdout",
          "text": [
            "1에서 9까지의 수를 입력하세요: 11\n",
            "1에서 9까지의 수를 다시 입력하세요: 2\n",
            "2 * 1 = 2\n",
            "2 * 2 = 4\n",
            "2 * 3 = 6\n",
            "2 * 4 = 8\n",
            "2 * 5 = 10\n",
            "2 * 6 = 12\n",
            "2 * 7 = 14\n",
            "2 * 8 = 16\n",
            "2 * 9 = 18\n"
          ]
        }
      ]
    },
    {
      "cell_type": "code",
      "source": [
        "num = int(input(\"1에서 9까지의 수를 입력하세요: \"))\n",
        "i = 1\n",
        "\n",
        "if num < 1 or num > 9:\n",
        "  num = int(input(\"1에서 9까의 수를 다시 입력하세요: \"))\n",
        "\n",
        "if 1 <= num <= 9:\n",
        "  while i < 10:\n",
        "    print(f\"{num} * {i} = {num*i}\")\n",
        "    i += 1"
      ],
      "metadata": {
        "colab": {
          "base_uri": "https://localhost:8080/"
        },
        "id": "lts6Hi2DgPCB",
        "outputId": "af35f08f-2751-456e-c3b3-e7ac02c85e3d"
      },
      "execution_count": null,
      "outputs": [
        {
          "output_type": "stream",
          "name": "stdout",
          "text": [
            "1에서 9까지의 수를 입력하세요: 11\n",
            "1에서 9까의 수를 다시 입력하세요: 2\n",
            "2 * 1 = 2\n",
            "2 * 2 = 4\n",
            "2 * 3 = 6\n",
            "2 * 4 = 8\n",
            "2 * 5 = 10\n",
            "2 * 6 = 12\n",
            "2 * 7 = 14\n",
            "2 * 8 = 16\n",
            "2 * 9 = 18\n"
          ]
        }
      ]
    },
    {
      "cell_type": "code",
      "source": [
        "for i in range(3):\n",
        "  print('Python ')\n",
        "  print('is ')\n",
        "  print('FUN! ')"
      ],
      "metadata": {
        "colab": {
          "base_uri": "https://localhost:8080/"
        },
        "id": "Og6WzlNUiA4v",
        "outputId": "7937a129-b935-42ee-efa8-deb4663e2279"
      },
      "execution_count": null,
      "outputs": [
        {
          "output_type": "stream",
          "name": "stdout",
          "text": [
            "Python \n",
            "is \n",
            "FUN! \n",
            "Python \n",
            "is \n",
            "FUN! \n",
            "Python \n",
            "is \n",
            "FUN! \n"
          ]
        }
      ]
    },
    {
      "cell_type": "code",
      "source": [
        "for i in range(3):\n",
        "  print('Python ')\n",
        "  print('is ')\n",
        "print('FUN! ')"
      ],
      "metadata": {
        "colab": {
          "base_uri": "https://localhost:8080/"
        },
        "id": "XkYiujGNlxb2",
        "outputId": "1a0db288-6af0-4b98-ecbf-0875da65e7d7"
      },
      "execution_count": null,
      "outputs": [
        {
          "output_type": "stream",
          "name": "stdout",
          "text": [
            "Python \n",
            "is \n",
            "Python \n",
            "is \n",
            "Python \n",
            "is \n",
            "FUN! \n"
          ]
        }
      ]
    },
    {
      "cell_type": "code",
      "source": [
        "for i in range(3):\n",
        "  print('Python ')\n",
        "print('is ')\n",
        "print('FUN! ')"
      ],
      "metadata": {
        "colab": {
          "base_uri": "https://localhost:8080/"
        },
        "id": "UT4znbgDmie1",
        "outputId": "87fab748-6cf2-4421-f041-815d12344044"
      },
      "execution_count": null,
      "outputs": [
        {
          "output_type": "stream",
          "name": "stdout",
          "text": [
            "Python \n",
            "Python \n",
            "Python \n",
            "is \n",
            "FUN! \n"
          ]
        }
      ]
    },
    {
      "cell_type": "code",
      "source": [
        "print(\"맛나 식당에 오신 것을 환영합니다. 메뉴는 다음과 같습니다. \\n1) 햄버거\\n2) 치킨\\n3) 피자\")\n",
        "num = int(input(\"1에서 3까지의 메뉴를 선택하세요 : \"))\n",
        "\n",
        "while num < 1 or num > 3:\n",
        "  num = int(input(\"메뉴를 다시 입력하세요: \"))\n",
        "\n",
        "if num == 1:\n",
        "  print(\"햄버거를 선택하였습니다.\")\n",
        "elif num == 2:\n",
        "  print(\"치킨을 선택하였습니다.\")\n",
        "else:\n",
        "  print(\"피자를 선택하였습니다.\")"
      ],
      "metadata": {
        "colab": {
          "base_uri": "https://localhost:8080/"
        },
        "id": "c5PALRvJmwwk",
        "outputId": "bb856fb6-12a3-451a-b42f-e48e3b2de6c2"
      },
      "execution_count": null,
      "outputs": [
        {
          "output_type": "stream",
          "name": "stdout",
          "text": [
            "맛나 식당에 오신 것을 환영합니다. 메뉴는 다음과 같습니다. \n",
            "1) 햄버거\n",
            "2) 치킨\n",
            "3) 피자\n",
            "1에서 3까지의 메뉴를 선택하세요 : 5\n",
            "메뉴를 다시 입력하세요: 6\n",
            "메뉴를 다시 입력하세요: 0\n",
            "메뉴를 다시 입력하세요: 2\n",
            "치킨을 선택하였습니다.\n"
          ]
        }
      ]
    },
    {
      "cell_type": "code",
      "source": [
        "print(\"맛나 식당에 오신 것을 환영합니다. 메뉴는 다음과 같습니다.\\n- 햄버거(입력 b)\\n- 치킨(입력 c)\\n- 피자(입력 p)\")\n",
        "alphabet = input(\"메뉴를 선택하세요(알파벳 b, c, p 입력) : \")\n",
        "\n",
        "\n",
        "while alphabet not in ['b', 'c', 'p']:\n",
        "  alphabet = input(\"메뉴를 다시 입력하세요(알파벳 b, c, p 입력) : \")\n",
        "\n",
        "if alphabet == 'b':\n",
        "  print(\"햄버거를 선택하였습니다.\")\n",
        "elif alphabet == 'c':\n",
        "  print(\"치킨을 선택하였습니다.\")\n",
        "else:\n",
        "  print(\"피자를 선택하였습니다.\")"
      ],
      "metadata": {
        "colab": {
          "base_uri": "https://localhost:8080/"
        },
        "id": "s6-dgz7nozmx",
        "outputId": "3c187654-563c-49a0-b06f-1802c513dd81"
      },
      "execution_count": null,
      "outputs": [
        {
          "output_type": "stream",
          "name": "stdout",
          "text": [
            "맛나 식당에 오신 것을 환영합니다. 메뉴는 다음과 같습니다.\n",
            "- 햄버거(입력 b)\n",
            "- 치킨(입력 c)\n",
            "- 피자(입력 p)\n",
            "메뉴를 선택하세요(알파벳 b, c, p 입력) : x\n",
            "메뉴를 다시 입력하세요(알파벳 b, c, p 입력) : c\n",
            "치킨을 선택하였습니다.\n"
          ]
        }
      ]
    },
    {
      "cell_type": "code",
      "source": [
        "num = int(input(\"숫자를 입력하세요 : \"))\n",
        "i = 1\n",
        "\n",
        "for i in range(num+1):\n",
        "    print(' ' * (num-i) + '*' * i)\n",
        "    i += 1\n"
      ],
      "metadata": {
        "colab": {
          "base_uri": "https://localhost:8080/"
        },
        "id": "wJNXRqA0BHyx",
        "outputId": "c494f03e-0500-4329-c4f1-0c651f632e3d"
      },
      "execution_count": null,
      "outputs": [
        {
          "output_type": "stream",
          "name": "stdout",
          "text": [
            "숫자를 입력하세요 : 6\n",
            "      \n",
            "     *\n",
            "    **\n",
            "   ***\n",
            "  ****\n",
            " *****\n",
            "******\n"
          ]
        }
      ]
    },
    {
      "cell_type": "code",
      "source": [
        "n = 7\n",
        "for i in range(n):\n",
        "  st = ''\n",
        "  for j in range(n-(i+1)):\n",
        "    st = st + ' '\n",
        "  print(st + '#')"
      ],
      "metadata": {
        "colab": {
          "base_uri": "https://localhost:8080/"
        },
        "id": "lU9yNTXREZuU",
        "outputId": "c2957fc9-a4c0-4ee9-955a-919b5a70152c"
      },
      "execution_count": null,
      "outputs": [
        {
          "output_type": "stream",
          "name": "stdout",
          "text": [
            "      #\n",
            "     #\n",
            "    #\n",
            "   #\n",
            "  #\n",
            " #\n",
            "#\n"
          ]
        }
      ]
    },
    {
      "cell_type": "code",
      "source": [
        "for n in range(2, 13):\n",
        "  is_prime = True\n",
        "  if n != 2 and n % 2 == 0:\n",
        "    is_prime = False\n",
        "  else:\n",
        "    for num in range(3, n, 2):\n",
        "      if n % num == 0:\n",
        "        is_prime = False\n",
        "\n",
        "  if is_prime:\n",
        "    print(f\"{n} : 소수\")\n",
        "  else:\n",
        "    print(f\"{n} : 합성수\")"
      ],
      "metadata": {
        "colab": {
          "base_uri": "https://localhost:8080/"
        },
        "id": "uu8KvryKN0Fp",
        "outputId": "bb217ee2-dd3a-4e01-fa5c-389e6be68884"
      },
      "execution_count": null,
      "outputs": [
        {
          "output_type": "stream",
          "name": "stdout",
          "text": [
            "2 : 소수\n",
            "3 : 소수\n",
            "4 : 합성수\n",
            "5 : 소수\n",
            "6 : 합성수\n",
            "7 : 소수\n",
            "8 : 합성수\n",
            "9 : 합성수\n",
            "10 : 합성수\n",
            "11 : 소수\n",
            "12 : 합성수\n"
          ]
        }
      ]
    },
    {
      "cell_type": "code",
      "source": [
        "n = int(input('숫자를 입력하세요 : '))\n",
        "result = 0\n",
        "\n",
        "for i in range(1, n+1):\n",
        "  result += i**2\n",
        "\n",
        "print(f'결과는 {result}입니다.')"
      ],
      "metadata": {
        "colab": {
          "base_uri": "https://localhost:8080/"
        },
        "id": "WRbwwMHtRVoA",
        "outputId": "0a0e7703-0ef3-41c4-e829-c7b71b112b13"
      },
      "execution_count": null,
      "outputs": [
        {
          "output_type": "stream",
          "name": "stdout",
          "text": [
            "숫자를 입력하세요 : 5\n",
            "결과는 55입니다.\n"
          ]
        }
      ]
    },
    {
      "cell_type": "code",
      "source": [
        "n = int(input('숫자를 입력하세요 : '))\n",
        "result = 0\n",
        "\n",
        "for i in range(1, n+1):\n",
        "  result += (1 / i)**2\n",
        "\n",
        "print(f'결과는 {result}입니다.')"
      ],
      "metadata": {
        "colab": {
          "base_uri": "https://localhost:8080/"
        },
        "id": "s5EFxRZVR53D",
        "outputId": "d1c9590c-795a-4149-965d-e50c51cedddc"
      },
      "execution_count": null,
      "outputs": [
        {
          "output_type": "stream",
          "name": "stdout",
          "text": [
            "숫자를 입력하세요 : 100\n",
            "결과는 1.6349839001848923입니다.\n"
          ]
        }
      ]
    },
    {
      "cell_type": "code",
      "source": [
        "depth = 30\n",
        "height = 7\n",
        "day = 1\n",
        "\n",
        "while height < depth:\n",
        "  print(f\"day : {day} 달팽이의 위치 : {height} 미터\")\n",
        "  day += 1\n",
        "  height += 2\n",
        "\n",
        "print(f\"day : {day} 달팽이의 위치 : {height} 미터\")\n",
        "print(\"\\n\")\n",
        "print(f\"우물을 탈출하는 데 걸린 날은 {day}일 입니다.\")"
      ],
      "metadata": {
        "colab": {
          "base_uri": "https://localhost:8080/"
        },
        "id": "7dngQ9F4Ky53",
        "outputId": "8cc28ed6-c298-4890-c021-c00c447e3f31"
      },
      "execution_count": null,
      "outputs": [
        {
          "output_type": "stream",
          "name": "stdout",
          "text": [
            "day : 1 달팽이의 위치 : 7 미터\n",
            "day : 2 달팽이의 위치 : 9 미터\n",
            "day : 3 달팽이의 위치 : 11 미터\n",
            "day : 4 달팽이의 위치 : 13 미터\n",
            "day : 5 달팽이의 위치 : 15 미터\n",
            "day : 6 달팽이의 위치 : 17 미터\n",
            "day : 7 달팽이의 위치 : 19 미터\n",
            "day : 8 달팽이의 위치 : 21 미터\n",
            "day : 9 달팽이의 위치 : 23 미터\n",
            "day : 10 달팽이의 위치 : 25 미터\n",
            "day : 11 달팽이의 위치 : 27 미터\n",
            "day : 12 달팽이의 위치 : 29 미터\n",
            "day : 13 달팽이의 위치 : 31 미터\n",
            "\n",
            "\n",
            "우물을 탈출하는 데 걸린 날은 13일 입니다.\n"
          ]
        }
      ]
    },
    {
      "cell_type": "code",
      "source": [
        "n = int(input(\"n을 입력하시오 : \"))\n",
        "rows = n #행\n",
        "cols = n #열\n",
        "\n",
        "if i in range(rows // 2): #행(세로) n만큼 출력\n",
        "  if j in range(cols): #열(가로) n만큼 출력\n",
        "    print(i * cols + j + 1, end=\" \")\n",
        "    print()\n",
        "    if k in range (cols * 2, cols, -1):\n",
        "      print(i * cols + k + 1, end=\" \")\n",
        "      print()\n"
      ],
      "metadata": {
        "colab": {
          "base_uri": "https://localhost:8080/"
        },
        "id": "Bzjbje60NwOK",
        "outputId": "8dc4d34a-505d-456d-e690-6ce599dfba66"
      },
      "execution_count": null,
      "outputs": [
        {
          "output_type": "stream",
          "name": "stdout",
          "text": [
            "n을 입력하시오 : 6\n",
            "1 \n"
          ]
        }
      ]
    }
  ]
}